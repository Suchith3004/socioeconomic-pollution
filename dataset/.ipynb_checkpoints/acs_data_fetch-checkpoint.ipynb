{
 "cells": [
  {
   "cell_type": "code",
   "execution_count": 65,
   "id": "52c116f4-5de6-43b1-b654-701c105db3ac",
   "metadata": {},
   "outputs": [],
   "source": [
    "import requests\n",
    "import pandas as pd\n",
    "import numpy as np\n",
    "import json\n",
    "import regex as re\n",
    "pd.set_option('display.max_columns', 500)"
   ]
  },
  {
   "cell_type": "code",
   "execution_count": 2,
   "id": "5a958cd7-1fc2-4180-8cd2-b34bf3ff3e73",
   "metadata": {},
   "outputs": [],
   "source": [
    "def get_request(endpoint, parameters=dict()):\n",
    "    api_url = 'https://api.census.gov/data/'\n",
    "    response = requests.get(api_url + endpoint, parameters)\n",
    "    if response.status_code != 200:\n",
    "        print(\"Request to {} failed. Error code {}:{}\".format(api_url + endpoint, response.status_code, response.text))\n",
    "    \n",
    "    response = json.loads(response.text)\n",
    "    return response"
   ]
  },
  {
   "cell_type": "code",
   "execution_count": 168,
   "id": "ebbf64f7-8631-4f5f-ac08-d4184f1a4479",
   "metadata": {},
   "outputs": [],
   "source": [
    "# record possibilites for variables\n",
    "# var_file = open('variable_possibilites.txt', 'w')"
   ]
  },
  {
   "cell_type": "code",
   "execution_count": 159,
   "id": "43b015f9-efb2-428a-84f4-665fbdcc121b",
   "metadata": {},
   "outputs": [],
   "source": [
    "## Retrieve subject level variables (parameters for api)\n",
    "url ='/acs/acs1/subject/variables.json'\n",
    "response = get_request(str(2019) + url)\n",
    "variables = response['variables']\n",
    "\n",
    "# Retrieve profile of data variables\n",
    "url ='/acs/acs1/profile/variables.json'\n",
    "response = get_request(str(2019) + url)\n",
    "variables.update(response['variables'])"
   ]
  },
  {
   "cell_type": "code",
   "execution_count": 171,
   "id": "601f2620-de22-4fb6-bfa6-a2267169c10d",
   "metadata": {},
   "outputs": [
    {
     "name": "stdout",
     "output_type": "stream",
     "text": [
      "Estimate!!Percent!!AGE BY EDUCATIONAL ATTAINMENT!!Population 25 years and over!!Less than 9th grade\n",
      "Estimate!!Percent!!AGE BY EDUCATIONAL ATTAINMENT!!Population 25 years and over!!9th to 12th grade, no diploma\n",
      "Estimate!!Percent!!AGE BY EDUCATIONAL ATTAINMENT!!Population 18 to 24 years!!Bachelor's degree or higher\n",
      "Estimate!!Percent!!AGE BY EDUCATIONAL ATTAINMENT!!Population 18 to 24 years!!High school graduate (includes equivalency)\n",
      "Estimate!!Percent!!AGE BY EDUCATIONAL ATTAINMENT!!Population 18 to 24 years!!Some college or associate's degree\n",
      "Estimate!!Percent!!AGE BY EDUCATIONAL ATTAINMENT!!Population 18 to 24 years!!Less than high school graduate\n",
      "Estimate!!Percent!!AGE BY EDUCATIONAL ATTAINMENT!!Population 25 years and over!!High school graduate (includes equivalency)\n",
      "Estimate!!Percent!!AGE BY EDUCATIONAL ATTAINMENT!!Population 25 years and over!!Bachelor's degree or higher\n",
      "Estimate!!Percent!!AGE BY EDUCATIONAL ATTAINMENT!!Population 25 years and over!!Graduate or professional degree\n",
      "Estimate!!Percent!!AGE BY EDUCATIONAL ATTAINMENT!!Population 25 years and over!!High school graduate or higher\n",
      "Estimate!!Percent!!AGE BY EDUCATIONAL ATTAINMENT!!Population 25 years and over!!Associate's degree\n",
      "Estimate!!Percent!!AGE BY EDUCATIONAL ATTAINMENT!!Population 25 years and over!!Bachelor's degree\n",
      "Estimate!!Percent!!AGE BY EDUCATIONAL ATTAINMENT!!Population 25 years and over!!Some college, no degree\n"
     ]
    }
   ],
   "source": [
    "education = list()\n",
    "for var in variables.keys():\n",
    "    edu_str = re.compile('^estimate!!percent!!age by educational attainment!!.+(18 to 24|25 years).+!!')\n",
    "    if bool(re.match(edu_str, variables[var]['label'].lower())):\n",
    "        education.append(var)\n",
    "        print(variables[var]['label'])"
   ]
  },
  {
   "cell_type": "code",
   "execution_count": 161,
   "id": "1a4a724b-0677-4813-a08d-ee428dae93d7",
   "metadata": {},
   "outputs": [
    {
     "name": "stdout",
     "output_type": "stream",
     "text": [
      "['S1501_C02_007E', 'S1501_C02_008E', 'S1501_C02_005E', 'S1501_C02_003E', 'S1501_C02_004E', 'S1501_C02_002E', 'S1501_C02_009E', 'S1501_C02_017E', 'S1501_C02_018E', 'S1501_C02_015E', 'S1501_C02_013E', 'S1501_C02_014E', 'S1501_C02_011E', 'S1501_C02_012E', 'S1501_C02_010E', 'S1501_C02_027E', 'S1501_C02_026E', 'S1501_C02_023E', 'S1501_C02_024E', 'S1501_C02_021E', 'S1501_C02_020E']\n"
     ]
    }
   ],
   "source": [
    "print(education)"
   ]
  },
  {
   "cell_type": "code",
   "execution_count": 178,
   "id": "bdc31baa-dba8-4fdc-85c1-47553b71674a",
   "metadata": {},
   "outputs": [
    {
     "name": "stdout",
     "output_type": "stream",
     "text": [
      "Estimate!!Percent Female!!Civilian employed population 16 years and over\n",
      "Estimate!!Percent Male!!Civilian employed population 16 years and over\n"
     ]
    }
   ],
   "source": [
    "occupation = list()\n",
    "for var in variables.keys():\n",
    "    occupation_re = '^estimate!!percent (male|female)!!civilian employed population 16 years and over$'\n",
    "    cat_str = 'OCCUPATION BY SEX FOR THE CIVILIAN EMPLOYED POPULATION 16 YEARS AND OVER'\n",
    "    edu_str = 'employment status'\n",
    "    # if (edu_str.lower() in variables[var]['label'].lower()) and (cat_str.lower() in variables[var]['concept'].lower()) and (':!!' not in variables[var]['label']):\n",
    "    if bool(re.match(occupation_re, variables[var]['label'].lower())) and (cat_str.lower() in variables[var]['concept'].lower()):\n",
    "        occupation.append(var)\n",
    "        print(variables[var]['label'])"
   ]
  },
  {
   "cell_type": "code",
   "execution_count": 163,
   "id": "bb3390ec-f909-4441-a1d9-a7a108db59f1",
   "metadata": {},
   "outputs": [
    {
     "name": "stdout",
     "output_type": "stream",
     "text": [
      "72\n"
     ]
    }
   ],
   "source": [
    "print(len(occupation))"
   ]
  },
  {
   "cell_type": "code",
   "execution_count": 164,
   "id": "ecaa6c7b-835a-4c29-ae2c-e1dd5823ff6c",
   "metadata": {},
   "outputs": [],
   "source": [
    "var_file.write(\"----------{Employment Status}----------\\n\")\n",
    "employment = list()\n",
    "for var in variables.keys():\n",
    "    emp_re = re.compile('^estimate!!.*employment status!!.*population 16 years and over!!')\n",
    "    concept_re = '^population.*and over in the united states$'\n",
    "    edu_str = 'employment status'\n",
    "    # if (edu_str.lower() in variables[var]['label'].lower()) and ('and over in the united states' in variables[var]['concept'].lower()):\n",
    "    if bool(re.match(emp_re, variables[var]['label'].lower())) and bool(re.match(concept_re, variables[var]['concept'].lower())):\n",
    "        employment.append(var)\n",
    "        var_file.write(\"{}\\n\".format(variables[var]['label']))"
   ]
  },
  {
   "cell_type": "code",
   "execution_count": 165,
   "id": "ad92d9b9-43cf-459a-bfe8-a2592ad1d7e5",
   "metadata": {},
   "outputs": [
    {
     "name": "stdout",
     "output_type": "stream",
     "text": [
      "['S0102_C02_068E', 'S0102_C02_069E', 'S0102_C02_067E', 'S0102_C02_072E', 'S0102_C02_073E', 'S0102_C02_070E', 'S0102_C02_071E', 'S0103_C02_070E', 'S0103_C02_071E', 'S0103_C02_068E', 'S0103_C02_067E', 'S0103_C02_069E', 'S0102_C01_073E', 'S0102_C01_072E', 'S0102_C01_070E', 'S0102_C01_071E', 'S0102_C01_069E', 'S0102_C01_068E', 'S0102_C01_067E', 'S0103_C01_069E', 'S0103_C01_068E', 'S0103_C01_067E', 'S0103_C01_071E', 'S0103_C01_070E']\n"
     ]
    }
   ],
   "source": [
    "print(employment)"
   ]
  },
  {
   "cell_type": "code",
   "execution_count": 166,
   "id": "51f9e2d2-4461-49cc-8a8d-c06da433c973",
   "metadata": {},
   "outputs": [],
   "source": [
    "var_file.write(\"----------{Income}----------\\n\")\n",
    "income = list()\n",
    "for var in variables.keys():\n",
    "    income_re = re.compile(\"(percent|estimate)!!income and benefits.+!!families!!.+\")\n",
    "    income_str = 'selected economic characteristics'\n",
    "    # if ('concept' in variables[var]) and (income_str.lower() in variables[var]['concept'].lower()) and ('household income' in variables[var]['label'].lower()):\n",
    "    if ('concept' in variables[var]) and bool(re.match(income_re, variables[var]['label'].lower())) and (income_str.lower() == variables[var]['concept'].lower()):\n",
    "        income.append(var)\n",
    "        var_file.write(\"{}\\n\".format(variables[var]['label']))"
   ]
  },
  {
   "cell_type": "code",
   "execution_count": 167,
   "id": "0a5e6a65-02d0-43da-a3b2-64b9bca3f6c3",
   "metadata": {},
   "outputs": [
    {
     "name": "stdout",
     "output_type": "stream",
     "text": [
      "['DP03_0079PE', 'DP03_0084PE', 'DP03_0085PE', 'DP03_0078E', 'DP03_0079E', 'DP03_0076E', 'DP03_0077E', 'DP03_0082E', 'DP03_0083E', 'DP03_0080E', 'DP03_0081E', 'DP03_0077PE', 'DP03_0082PE', 'DP03_0086E', 'DP03_0087E', 'DP03_0084E', 'DP03_0085E', 'DP03_0078PE', 'DP03_0083PE', 'DP03_0080PE', 'DP03_0076PE', 'DP03_0081PE', 'DP03_0086PE', 'DP03_0087PE']\n"
     ]
    }
   ],
   "source": [
    "print(income)"
   ]
  },
  {
   "cell_type": "code",
   "execution_count": 179,
   "id": "4ac80bf2-46d0-4aae-ac87-fdc01bfb89a3",
   "metadata": {},
   "outputs": [],
   "source": [
    "# params = education.copy()\n",
    "params = (occupation)\n",
    "# params.extend(income)\n",
    "# params = (employment)\n",
    "endpoint = '2019/acs/acs1/subject?get=NAME,{}&for=metropolitan%20statistical%20area/micropolitan%20statistical%20area:*'.format(','.join(params))\n",
    "# print(endpoint)\n",
    "\n",
    "results = get_request(endpoint)"
   ]
  },
  {
   "cell_type": "code",
   "execution_count": 180,
   "id": "0651102d-3f49-4f26-903c-f21c45bda927",
   "metadata": {},
   "outputs": [
    {
     "data": {
      "text/html": [
       "<div>\n",
       "<style scoped>\n",
       "    .dataframe tbody tr th:only-of-type {\n",
       "        vertical-align: middle;\n",
       "    }\n",
       "\n",
       "    .dataframe tbody tr th {\n",
       "        vertical-align: top;\n",
       "    }\n",
       "\n",
       "    .dataframe thead th {\n",
       "        text-align: right;\n",
       "    }\n",
       "</style>\n",
       "<table border=\"1\" class=\"dataframe\">\n",
       "  <thead>\n",
       "    <tr style=\"text-align: right;\">\n",
       "      <th></th>\n",
       "      <th>Estimate!!Percent Female!!Civilian employed population 16 years and over</th>\n",
       "      <th>Estimate!!Percent Male!!Civilian employed population 16 years and over</th>\n",
       "      <th>NAME</th>\n",
       "      <th>metropolitan statistical area/micropolitan statistical area</th>\n",
       "      <th>metro area</th>\n",
       "    </tr>\n",
       "  </thead>\n",
       "  <tbody>\n",
       "    <tr>\n",
       "      <th>1</th>\n",
       "      <td>50.6</td>\n",
       "      <td>49.4</td>\n",
       "      <td>Abilene, TX Metro Area</td>\n",
       "      <td>10180</td>\n",
       "      <td>True</td>\n",
       "    </tr>\n",
       "    <tr>\n",
       "      <th>3</th>\n",
       "      <td>43.5</td>\n",
       "      <td>56.5</td>\n",
       "      <td>Aguadilla-Isabela, PR Metro Area</td>\n",
       "      <td>10380</td>\n",
       "      <td>True</td>\n",
       "    </tr>\n",
       "  </tbody>\n",
       "</table>\n",
       "</div>"
      ],
      "text/plain": [
       "  Estimate!!Percent Female!!Civilian employed population 16 years and over  \\\n",
       "1                                               50.6                         \n",
       "3                                               43.5                         \n",
       "\n",
       "  Estimate!!Percent Male!!Civilian employed population 16 years and over  \\\n",
       "1                                               49.4                       \n",
       "3                                               56.5                       \n",
       "\n",
       "                               NAME  \\\n",
       "1            Abilene, TX Metro Area   \n",
       "3  Aguadilla-Isabela, PR Metro Area   \n",
       "\n",
       "  metropolitan statistical area/micropolitan statistical area  metro area  \n",
       "1                                              10180                 True  \n",
       "3                                              10380                 True  "
      ]
     },
     "execution_count": 180,
     "metadata": {},
     "output_type": "execute_result"
    }
   ],
   "source": [
    "results_cp = results.copy()\n",
    "columns = results_cp.pop(0)\n",
    "df = pd.DataFrame(results_cp, columns=columns)\n",
    "columns = [i for i in columns if (i in variables)]\n",
    "skip = ['NAME', 'metropolitan statistical area/micropolitan statistical area']\n",
    "columns.extend(skip)\n",
    "df = df[columns]\n",
    "edu_str = 'Estimate!!Percent!!AGE BY EDUCATIONAL ATTAINMENT!!'\n",
    "columns = [variables[i]['label'] if i not in skip else i for i in columns]\n",
    "df.columns = columns\n",
    "\n",
    "df['metro area'] = ['Metro Area' in i for i in df['NAME']]\n",
    "\n",
    "df[df['metro area'] == True].head(2)"
   ]
  },
  {
   "cell_type": "code",
   "execution_count": 73,
   "id": "0bbb1eaa-c502-4a47-83a0-4fd1e0b072b6",
   "metadata": {},
   "outputs": [
    {
     "data": {
      "text/plain": [
       "(518, 25)"
      ]
     },
     "execution_count": 73,
     "metadata": {},
     "output_type": "execute_result"
    }
   ],
   "source": [
    "df.shape"
   ]
  },
  {
   "cell_type": "code",
   "execution_count": 181,
   "id": "2b6c64b8-21f2-4f65-ab42-ef8f31833712",
   "metadata": {},
   "outputs": [],
   "source": [
    "df[df['metro area']==True].to_csv('acs_survey.csv')"
   ]
  },
  {
   "cell_type": "code",
   "execution_count": 51,
   "id": "3cd09e6e-3d37-41bb-81b5-a6a165d74196",
   "metadata": {},
   "outputs": [
    {
     "name": "stdout",
     "output_type": "stream",
     "text": [
      "['Anniston-Oxford, AL', 'Auburn-Opelika, AL', 'Birmingham-Hoover, AL', 'Columbus, GA-AL', 'Daphne-Fairhope-Foley, AL', 'Decatur, AL', 'Dothan, AL', 'Florence-Muscle Shoals, AL', 'Gadsden, AL', 'Huntsville, AL', 'Mobile, AL', 'Montgomery, AL', 'Tuscaloosa, AL']\n"
     ]
    }
   ],
   "source": [
    "cities = df['NAME']\n",
    "alabama = [i.replace(' Metro Area', '') for i in cities if 'AL' in i and 'Metro Area' in i]\n",
    "print(alabama)"
   ]
  },
  {
   "cell_type": "code",
   "execution_count": null,
   "id": "9ca16531-e8de-4ad5-88c7-cfe31c5dd57b",
   "metadata": {},
   "outputs": [],
   "source": []
  }
 ],
 "metadata": {
  "kernelspec": {
   "display_name": "Python 3 (ipykernel)",
   "language": "python",
   "name": "python3"
  },
  "language_info": {
   "codemirror_mode": {
    "name": "ipython",
    "version": 3
   },
   "file_extension": ".py",
   "mimetype": "text/x-python",
   "name": "python",
   "nbconvert_exporter": "python",
   "pygments_lexer": "ipython3",
   "version": "3.8.8"
  }
 },
 "nbformat": 4,
 "nbformat_minor": 5
}
