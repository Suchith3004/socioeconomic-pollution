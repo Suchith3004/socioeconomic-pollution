{
 "cells": [
  {
   "cell_type": "code",
   "execution_count": 16,
   "id": "55bebc0e-40e8-4f48-843f-b02607b28fed",
   "metadata": {},
   "outputs": [],
   "source": [
    "import requests \n",
    "import pandas as pd\n",
    "import numpy as np\n",
    "import json\n",
    "import time"
   ]
  },
  {
   "cell_type": "code",
   "execution_count": 17,
   "id": "23798b3b-40b7-4e52-926c-83381f7ec8db",
   "metadata": {},
   "outputs": [],
   "source": [
    "# Run only once\n",
    "# response = requests.get(\"https://aqs.epa.gov/data/api/signup?email=suchiths@vt.edu\")"
   ]
  },
  {
   "cell_type": "code",
   "execution_count": 18,
   "id": "fa4831e2-5a8a-418b-99e4-4e5ea3dc47d7",
   "metadata": {},
   "outputs": [],
   "source": [
    "def get_request(endpoint, parameters=dict()):\n",
    "    api_url = 'https://aqs.epa.gov/data/api/'\n",
    "    parameters['email'] = 'suchiths@vt.edu'\n",
    "    parameters['key'] = 'silvermallard37'\n",
    "    \n",
    "    response = requests.get(api_url + endpoint, params=parameters)\n",
    "    if response.status_code != 200:\n",
    "        print(\"Request to {} failed. Error code {}:{}\".format(api_url + endpoint, response.status_code, response.text))\n",
    "    \n",
    "    response = json.loads(response.text)\n",
    "    return response"
   ]
  },
  {
   "cell_type": "code",
   "execution_count": 19,
   "id": "4c6f009f-0c24-44a3-89d9-ffac23172c4d",
   "metadata": {},
   "outputs": [],
   "source": [
    "# Retrieve all states \n",
    "response = get_request('list/states')\n",
    "states = dict()\n",
    "for state in response['Data']:\n",
    "    skip = ['Country Of Mexico', 'Canada']\n",
    "    if state['value_represented'] not in skip:\n",
    "        states[state['code']] = state['value_represented']"
   ]
  },
  {
   "cell_type": "code",
   "execution_count": 20,
   "id": "e20117a8-dbcb-41e7-b4aa-cdb0bd9fabb5",
   "metadata": {},
   "outputs": [
    {
     "name": "stdout",
     "output_type": "stream",
     "text": [
      "42101,42401,42602,44201,88502\n"
     ]
    }
   ],
   "source": [
    "\n",
    "# Retrieve pollution metrics\n",
    "response = get_request('list/parametersByClass', {'pc':'AQI POLLUTANTS'})\n",
    "pollutants = dict()\n",
    "for pollutant in response['Data']:\n",
    "    if pollutant['code'] not in ['81102', '88101']:\n",
    "        pollutants[pollutant['code']] = pollutant['value_represented']\n",
    "\n",
    "pollutants_str = ','.join(pollutants.keys())\n",
    "print(pollutants_str)"
   ]
  },
  {
   "cell_type": "code",
   "execution_count": 21,
   "id": "a1c8cf90-4c08-421d-896a-cc79b8296eaa",
   "metadata": {},
   "outputs": [
    {
     "name": "stdout",
     "output_type": "stream",
     "text": [
      "{'42101': 'Carbon monoxide', '42401': 'Sulfur dioxide', '42602': 'Nitrogen dioxide (NO2)', '44201': 'Ozone', '88502': 'Acceptable PM2.5 AQI & Speciation Mass'}\n"
     ]
    }
   ],
   "source": [
    "print(pollutants)"
   ]
  },
  {
   "cell_type": "code",
   "execution_count": 22,
   "id": "76681e2a-9012-462d-9283-aba56f71a60a",
   "metadata": {},
   "outputs": [],
   "source": [
    "# attributes = ['state_code', 'county_code', 'cbsa_code', 'site_number', 'year', '\n",
    "data = list()\n",
    "raw_df = pd.DataFrame()\n",
    "for state in states.keys():\n",
    "    for year in range(2005, 2020, 1): #2014 - 2019\n",
    "        year_str = '{}0101'.format(year)\n",
    "        params = {'bdate':year_str,\n",
    "                  'edate':year_str,\n",
    "                  'state':state,\n",
    "                  'param':pollutants_str}\n",
    "        response = get_request('annualData/byState', params)\n",
    "        time.sleep(6) #ensure rate/limit of 10 calls per min is adhered\n",
    "        \n",
    "        # Add to data frame\n",
    "        data.extend(response['Data'])"
   ]
  },
  {
   "cell_type": "code",
   "execution_count": 28,
   "id": "aeccf27f-512b-4d1d-94a9-4b6b162d6e51",
   "metadata": {},
   "outputs": [],
   "source": [
    "# convert data for dataframe creation\n",
    "data_df = [list(item.values()) for item in data]\n",
    "    \n",
    "df = pd.DataFrame(data_df, columns=data[0].keys())\n",
    "\n",
    "# features = ['latitude', 'longitude', 'datum', 'parameter', 'sample_duration', 'pollutant_standard', 'metric_used', 'year', 'units_of_measure', 'observation_count', 'validity_indicator', 'required_day_count', 'null_observation_count', 'arithmetic_mean', 'standard_deviation', 'first_max_value', 'first_max_date\n",
    "remove = ['local_site_name', 'state_code', 'county_code', 'event_type', 'site_number', 'parameter_code', 'poc', 'pollutant_standard', 'method', 'event-type', 'observation_percent', 'required_day_count', 'exceptional_data_count', 'primary_exceedance_count', 'secondary_exceedance_count', 'certification_indicator', 'first_max_nonoverlap_value', 'first_max_n_o_datetime', 'second_max_nonoverlap_value', 'second_max_n_o_datetime', 'site_address', 'cbsa', 'date_of_last_change']\n",
    "features = [col for col in df.columns if col not in remove]\n",
    "\n",
    "df[features].to_csv('epa_pollution.csv', index=False)"
   ]
  },
  {
   "cell_type": "code",
   "execution_count": 27,
   "id": "05bed114-0e86-4303-8b34-9b4bbf8f9b72",
   "metadata": {},
   "outputs": [
    {
     "data": {
      "text/plain": [
       "(159367, 55)"
      ]
     },
     "execution_count": 27,
     "metadata": {},
     "output_type": "execute_result"
    }
   ],
   "source": [
    "df.shape"
   ]
  },
  {
   "cell_type": "code",
   "execution_count": 24,
   "id": "0e152b9e-06ce-45dc-aaf8-104c7ef6d289",
   "metadata": {},
   "outputs": [],
   "source": [
    "read = pd.read_csv('raw_epa.csv')"
   ]
  },
  {
   "cell_type": "code",
   "execution_count": 66,
   "id": "ee42945b-6cb1-4828-b5e4-0e93fd14e450",
   "metadata": {},
   "outputs": [],
   "source": [
    "# df['location'] = [(i, j) for i, j in zip(df['latitude'], df['longitude'])]\n",
    "df_complete = df[df['cbsa_code'].isnull() == False]\n",
    "cbsa = df_complete['cbsa_code'].unique()\n",
    "poll = df_complete['parameter'].unique()\n",
    "\n",
    "df_complete[(df_complete['cbsa_code'] == cbsa[0]) & (df_complete['parameter'] == poll[0])].to_csv('test.csv')\n"
   ]
  },
  {
   "cell_type": "code",
   "execution_count": null,
   "id": "11fd77f3-b220-4991-a38f-7161b47baddd",
   "metadata": {},
   "outputs": [],
   "source": []
  }
 ],
 "metadata": {
  "kernelspec": {
   "display_name": "Python 3 (ipykernel)",
   "language": "python",
   "name": "python3"
  },
  "language_info": {
   "codemirror_mode": {
    "name": "ipython",
    "version": 3
   },
   "file_extension": ".py",
   "mimetype": "text/x-python",
   "name": "python",
   "nbconvert_exporter": "python",
   "pygments_lexer": "ipython3",
   "version": "3.8.8"
  }
 },
 "nbformat": 4,
 "nbformat_minor": 5
}
