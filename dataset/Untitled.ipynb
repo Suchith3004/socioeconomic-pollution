{
 "cells": [
  {
   "cell_type": "code",
   "execution_count": 1,
   "id": "8d638416-8d1a-45f5-8130-2cbb59a14976",
   "metadata": {},
   "outputs": [],
   "source": [
    "import pandas as pd\n",
    "import numpy as np \n",
    "import matplotlib.pyplot as plt\n",
    "from sklearn import preprocessing, impute, model_selection, decomposition, cluster"
   ]
  },
  {
   "cell_type": "code",
   "execution_count": 12,
   "id": "d6e32f39-12cb-442d-973a-8c635520a166",
   "metadata": {},
   "outputs": [],
   "source": [
    "census = pd.read_csv('soc_econ_clustered.csv')\n",
    "aqi = pd.read_csv('aqi_clustered.csv')"
   ]
  },
  {
   "cell_type": "code",
   "execution_count": null,
   "id": "ea4a684c-7ab3-40ba-a6c7-d56a61ae41d6",
   "metadata": {},
   "outputs": [],
   "source": []
  }
 ],
 "metadata": {
  "kernelspec": {
   "display_name": "Python 3 (ipykernel)",
   "language": "python",
   "name": "python3"
  },
  "language_info": {
   "codemirror_mode": {
    "name": "ipython",
    "version": 3
   },
   "file_extension": ".py",
   "mimetype": "text/x-python",
   "name": "python",
   "nbconvert_exporter": "python",
   "pygments_lexer": "ipython3",
   "version": "3.8.8"
  }
 },
 "nbformat": 4,
 "nbformat_minor": 5
}
