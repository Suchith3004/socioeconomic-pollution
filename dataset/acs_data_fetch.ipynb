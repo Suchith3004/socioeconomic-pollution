{
 "cells": [
  {
   "cell_type": "code",
   "execution_count": 65,
   "id": "52c116f4-5de6-43b1-b654-701c105db3ac",
   "metadata": {},
   "outputs": [],
   "source": [
    "import requests\n",
    "import pandas as pd\n",
    "import numpy as np\n",
    "import json\n",
    "import regex as re\n",
    "pd.set_option('display.max_columns', 500)"
   ]
  },
  {
   "cell_type": "code",
   "execution_count": 2,
   "id": "5a958cd7-1fc2-4180-8cd2-b34bf3ff3e73",
   "metadata": {},
   "outputs": [],
   "source": [
    "def get_request(endpoint, parameters=dict()):\n",
    "    api_url = 'https://api.census.gov/data/'\n",
    "    response = requests.get(api_url + endpoint, parameters)\n",
    "    if response.status_code != 200:\n",
    "        print(\"Request to {} failed. Error code {}:{}\".format(api_url + endpoint, response.status_code, response.text))\n",
    "    \n",
    "    response = json.loads(response.text)\n",
    "    return response"
   ]
  },
  {
   "cell_type": "code",
   "execution_count": 168,
   "id": "ebbf64f7-8631-4f5f-ac08-d4184f1a4479",
   "metadata": {},
   "outputs": [],
   "source": [
    "# record possibilites for variables\n",
    "# var_file = open('variable_possibilites.txt', 'w')"
   ]
  },
  {
   "cell_type": "code",
   "execution_count": 370,
   "id": "43b015f9-efb2-428a-84f4-665fbdcc121b",
   "metadata": {},
   "outputs": [],
   "source": [
    "## Retrieve subject level variables (parameters for api)\n",
    "url ='/acs/acs1/subject/variables.json'\n",
    "response = get_request(str(2019) + url)\n",
    "variables = response['variables']\n",
    "\n",
    "# Retrieve profile of data variables\n",
    "url ='/acs/acs1/profile/variables.json'\n",
    "response = get_request(str(2019) + url)\n",
    "variables.update(response['variables'])"
   ]
  },
  {
   "cell_type": "code",
   "execution_count": 372,
   "id": "601f2620-de22-4fb6-bfa6-a2267169c10d",
   "metadata": {},
   "outputs": [
    {
     "name": "stdout",
     "output_type": "stream",
     "text": [
      "Estimate!!Percent!!AGE BY EDUCATIONAL ATTAINMENT!!Population 25 years and over!!Less than 9th grade\n",
      "Estimate!!Percent!!AGE BY EDUCATIONAL ATTAINMENT!!Population 25 years and over!!9th to 12th grade, no diploma\n",
      "Estimate!!Percent!!AGE BY EDUCATIONAL ATTAINMENT!!Population 18 to 24 years!!Bachelor's degree or higher\n",
      "Estimate!!Percent!!AGE BY EDUCATIONAL ATTAINMENT!!Population 18 to 24 years!!High school graduate (includes equivalency)\n",
      "Estimate!!Percent!!AGE BY EDUCATIONAL ATTAINMENT!!Population 18 to 24 years!!Some college or associate's degree\n",
      "Estimate!!Percent!!AGE BY EDUCATIONAL ATTAINMENT!!Population 18 to 24 years!!Less than high school graduate\n",
      "Estimate!!Percent!!AGE BY EDUCATIONAL ATTAINMENT!!Population 25 years and over!!High school graduate (includes equivalency)\n",
      "Estimate!!Percent!!AGE BY EDUCATIONAL ATTAINMENT!!Population 25 years and over!!Bachelor's degree or higher\n",
      "Estimate!!Percent!!AGE BY EDUCATIONAL ATTAINMENT!!Population 25 years and over!!Graduate or professional degree\n",
      "Estimate!!Percent!!AGE BY EDUCATIONAL ATTAINMENT!!Population 25 years and over!!High school graduate or higher\n",
      "Estimate!!Percent!!AGE BY EDUCATIONAL ATTAINMENT!!Population 25 years and over!!Associate's degree\n",
      "Estimate!!Percent!!AGE BY EDUCATIONAL ATTAINMENT!!Population 25 years and over!!Bachelor's degree\n",
      "Estimate!!Percent!!AGE BY EDUCATIONAL ATTAINMENT!!Population 25 years and over!!Some college, no degree\n",
      "13\n"
     ]
    }
   ],
   "source": [
    "# Retrieve the list of education attainment variables by age\n",
    "education = list()\n",
    "for var in variables.keys():\n",
    "    edu_str = re.compile('^estimate!!percent!!age by educational attainment!!.+(18 to 24|25 years).+!!')  #regex for educational attainment\n",
    "    if bool(re.match(edu_str, variables[var]['label'].lower())):\n",
    "        education.append(var)\n",
    "        print(variables[var]['label'])\n",
    "print(len(education))"
   ]
  },
  {
   "cell_type": "code",
   "execution_count": 373,
   "id": "e469a3ef-bcc4-456d-9811-46737281ab6c",
   "metadata": {},
   "outputs": [
    {
     "name": "stdout",
     "output_type": "stream",
     "text": [
      "['S1501_C02_007E', 'S1501_C02_008E', 'S1501_C02_005E', 'S1501_C02_003E', 'S1501_C02_004E', 'S1501_C02_002E', 'S1501_C02_009E', 'S1501_C02_015E', 'S1501_C02_013E', 'S1501_C02_014E', 'S1501_C02_011E', 'S1501_C02_012E', 'S1501_C02_010E']\n"
     ]
    }
   ],
   "source": [
    "print(education)"
   ]
  },
  {
   "cell_type": "code",
   "execution_count": 374,
   "id": "bdc31baa-dba8-4fdc-85c1-47553b71674a",
   "metadata": {},
   "outputs": [
    {
     "name": "stdout",
     "output_type": "stream",
     "text": [
      "Estimate!!Percent Female!!Civilian employed population 16 years and over!!Natural resources, construction, and maintenance occupations:\n",
      "Estimate!!Percent Female!!Civilian employed population 16 years and over!!Sales and office occupations:\n",
      "Estimate!!Percent Female!!Civilian employed population 16 years and over!!Production, transportation, and material moving occupations:\n",
      "Estimate!!Percent Female!!Civilian employed population 16 years and over!!Service occupations:\n",
      "Estimate!!Percent Female!!Civilian employed population 16 years and over\n",
      "Estimate!!Percent Female!!Civilian employed population 16 years and over!!Management, business, science, and arts occupations:\n",
      "Estimate!!Percent Male!!Civilian employed population 16 years and over\n",
      "Estimate!!Percent Male!!Civilian employed population 16 years and over!!Management, business, science, and arts occupations:\n",
      "Estimate!!Percent Male!!Civilian employed population 16 years and over!!Production, transportation, and material moving occupations:\n",
      "Estimate!!Percent Male!!Civilian employed population 16 years and over!!Service occupations:\n",
      "Estimate!!Percent Male!!Civilian employed population 16 years and over!!Sales and office occupations:\n",
      "Estimate!!Percent Male!!Civilian employed population 16 years and over!!Natural resources, construction, and maintenance occupations:\n",
      "12\n"
     ]
    }
   ],
   "source": [
    "# Retrieve list of occupation variables by age and occupation category\n",
    "occupation = list()\n",
    "for var in variables.keys():\n",
    "    occupation_re = re.compile('^estimate!!percent (male|female)!!civilian employed population 16 years and over($|!!.+:$)')\n",
    "    cat_str = 'OCCUPATION BY SEX FOR THE CIVILIAN EMPLOYED POPULATION 16 YEARS AND OVER'\n",
    "    edu_str = 'employment status'\n",
    "    # if (edu_str.lower() in variables[var]['label'].lower()) and (cat_str.lower() in variables[var]['concept'].lower()) and (':!!' not in variables[var]['label']):\n",
    "    if bool(re.match(occupation_re, variables[var]['label'].lower())) and (cat_str.lower() in variables[var]['concept'].lower()) and (':!!' not in variables[var]['label']):\n",
    "        occupation.append(var)\n",
    "        print(variables[var]['label'])\n",
    "print(len(occupation))"
   ]
  },
  {
   "cell_type": "code",
   "execution_count": 375,
   "id": "ecaa6c7b-835a-4c29-ae2c-e1dd5823ff6c",
   "metadata": {},
   "outputs": [
    {
     "name": "stdout",
     "output_type": "stream",
     "text": [
      "Percent!!EMPLOYMENT STATUS!!Population 16 years and over!!In labor force!!Civilian labor force!!Unemployed\n",
      "Percent!!EMPLOYMENT STATUS!!Population 16 years and over!!In labor force!!Armed Forces\n",
      "Percent!!EMPLOYMENT STATUS!!Population 16 years and over!!In labor force\n",
      "Percent!!EMPLOYMENT STATUS!!Population 16 years and over!!In labor force!!Civilian labor force\n",
      "Percent!!EMPLOYMENT STATUS!!Population 16 years and over!!In labor force!!Civilian labor force!!Employed\n",
      "Percent!!EMPLOYMENT STATUS!!Population 16 years and over\n",
      "Percent!!EMPLOYMENT STATUS!!Population 16 years and over!!Not in labor force\n",
      "7\n"
     ]
    }
   ],
   "source": [
    "# Retrieve list of employment status variables \n",
    "employment = list()\n",
    "for var in variables.keys():\n",
    "    emp_re = re.compile('^percent!!employment status!!population')\n",
    "    concept_re = 'selected economic characteristics'\n",
    "    edu_str = 'employment status'\n",
    "    # if (edu_str.lower() in variables[var]['label'].lower()) and ('and over in the united states' in variables[var]['concept'].lower()):\n",
    "    if bool(re.match(emp_re, variables[var]['label'].lower())) and bool(re.match(concept_re, variables[var]['concept'].lower())):\n",
    "        employment.append(var)\n",
    "        print(variables[var]['label'])\n",
    "print(len(employment))"
   ]
  },
  {
   "cell_type": "code",
   "execution_count": 376,
   "id": "51f9e2d2-4461-49cc-8a8d-c06da433c973",
   "metadata": {},
   "outputs": [
    {
     "name": "stdout",
     "output_type": "stream",
     "text": [
      "percent!!income and benefits (in 2019 inflation-adjusted dollars)!!families!!$25,000 to $34,999\n",
      "percent!!income and benefits (in 2019 inflation-adjusted dollars)!!families!!$150,000 to $199,999\n",
      "percent!!income and benefits (in 2019 inflation-adjusted dollars)!!families!!$200,000 or more\n",
      "percent!!income and benefits (in 2019 inflation-adjusted dollars)!!families!!$10,000 to $14,999\n",
      "percent!!income and benefits (in 2019 inflation-adjusted dollars)!!families!!$75,000 to $99,999\n",
      "estimate!!income and benefits (in 2019 inflation-adjusted dollars)!!families!!median family income (dollars)\n",
      "estimate!!income and benefits (in 2019 inflation-adjusted dollars)!!families!!mean family income (dollars)\n",
      "percent!!income and benefits (in 2019 inflation-adjusted dollars)!!families!!$15,000 to $24,999\n",
      "percent!!income and benefits (in 2019 inflation-adjusted dollars)!!families!!$100,000 to $149,999\n",
      "percent!!income and benefits (in 2019 inflation-adjusted dollars)!!families!!$35,000 to $49,999\n",
      "percent!!income and benefits (in 2019 inflation-adjusted dollars)!!families!!less than $10,000\n",
      "percent!!income and benefits (in 2019 inflation-adjusted dollars)!!families!!$50,000 to $74,999\n",
      "12\n"
     ]
    }
   ],
   "source": [
    "income = list()\n",
    "for var in variables.keys():\n",
    "    income_re = re.compile(\"percent!!income and benefits.+!!families!!.+\")\n",
    "    income_str = 'selected economic characteristics'\n",
    "    label = variables[var]['label'].lower()\n",
    "    if bool(re.match(income_re, label)) and (income_str.lower() == variables[var]['concept'].lower()) and ('median' not in label) and ('mean' not in label):\n",
    "        income.append(var)\n",
    "        print(label)\n",
    "        \n",
    "    income_re = re.compile(\"estimate!!income and benefits.+!!families!!(mean|median).+\")\n",
    "    if bool(re.match(income_re, label)) and (income_str.lower() == variables[var]['concept'].lower()):\n",
    "        income.append(var)\n",
    "        print(label)\n",
    "        \n",
    "print(len(income))"
   ]
  },
  {
   "cell_type": "code",
   "execution_count": 394,
   "id": "4ac80bf2-46d0-4aae-ac87-fdc01bfb89a3",
   "metadata": {},
   "outputs": [],
   "source": [
    "data = pd.DataFrame({})\n",
    "for year in range(2010,2020,1): #2005-2019\n",
    "    \n",
    "    #Retrieve all subject variable info from census api\n",
    "    params = education.copy()\n",
    "    params.extend(occupation)\n",
    "    endpoint = '{}/acs/acs1/subject?get=NAME,{}&for=metropolitan%20statistical%20area/micropolitan%20statistical%20area:*'.format(year, ','.join(params))\n",
    "    results = get_request(endpoint)\n",
    "    columns = results.pop(0)\n",
    "    df_subject = pd.DataFrame(results, columns=columns)\n",
    "    df_subject.set_index('metropolitan statistical area/micropolitan statistical area', inplace=True)\n",
    "    \n",
    "    #Retrieve all profile variable data from census api\n",
    "    params = income.copy()\n",
    "    params.extend(employment)\n",
    "    endpoint = '{}/acs/acs1/profile?get=NAME,{}&for=metropolitan%20statistical%20area/micropolitan%20statistical%20area:*'.format(year, ','.join(params))\n",
    "    results = get_request(endpoint)\n",
    "    columns = results.pop(0)\n",
    "    df_profile = pd.DataFrame(results, columns=columns)\n",
    "    df_profile.drop('NAME', axis=1, inplace=True) #drop redundant columns\n",
    "    df_profile.set_index('metropolitan statistical area/micropolitan statistical area', inplace=True)\n",
    "    \n",
    "    #combine dataframes and add final data\n",
    "    df = pd.concat([df_subject, df_profile], axis=1)\n",
    "    df.index.names = ['cbsa']     #replace name with a more common term\n",
    "    df.reset_index(inplace=True)\n",
    "    df['year'] = [year] * df.shape[0]      #add year\n",
    "    data = pd.concat([data, df], ignore_index=True)\n",
    "    \n",
    "# Add final touches to final dataset\n",
    "data['metropolitan_area'] = ['Metro Area' in i for i in data['NAME']]                   #Only use metropolitan areas (urban like)\n",
    "\n",
    "#Clean up area name\n",
    "data['NAME'] = [re.sub('( Metro Area| Micro Area)', '', i) for i in data['NAME']]\n",
    "#Seperate the state and city within NAME for convience\n",
    "states = list()\n",
    "cities = list()\n",
    "for place in data['NAME']:\n",
    "    m = re.search('(.+), (.+)', place)\n",
    "    states.append(m.group(2))\n",
    "    cities.append(m.group(1))\n",
    "    \n",
    "data['city'] = cities\n",
    "data['state'] = states\n",
    "data.drop('NAME', axis=1, inplace=True)\n",
    "\n",
    "#replace column codes with actual labels\n",
    "new_columns = [variables[i]['label'] if (i in variables) else i for i in data.columns]  \n",
    "data.columns = new_columns"
   ]
  },
  {
   "cell_type": "code",
   "execution_count": 395,
   "id": "2b6c64b8-21f2-4f65-ab42-ef8f31833712",
   "metadata": {},
   "outputs": [
    {
     "data": {
      "text/plain": [
       "(3846, 49)"
      ]
     },
     "execution_count": 395,
     "metadata": {},
     "output_type": "execute_result"
    }
   ],
   "source": [
    "#Store all the metropolitcan areas (urban like) as data\n",
    "data[data['metropolitan_area']==True].to_csv('acs_survey.csv', index=False)\n",
    "data[data['metropolitan_area']==True].shape"
   ]
  },
  {
   "cell_type": "code",
   "execution_count": 397,
   "id": "f7b4fed9-3f1a-452c-889d-d0cfb4fbb145",
   "metadata": {},
   "outputs": [
    {
     "data": {
      "text/plain": [
       "0"
      ]
     },
     "execution_count": 397,
     "metadata": {},
     "output_type": "execute_result"
    }
   ],
   "source": [
    "data[data['metropolitan_area'] == True].isnull().sum().sum()"
   ]
  }
 ],
 "metadata": {
  "kernelspec": {
   "display_name": "Python 3 (ipykernel)",
   "language": "python",
   "name": "python3"
  },
  "language_info": {
   "codemirror_mode": {
    "name": "ipython",
    "version": 3
   },
   "file_extension": ".py",
   "mimetype": "text/x-python",
   "name": "python",
   "nbconvert_exporter": "python",
   "pygments_lexer": "ipython3",
   "version": "3.8.8"
  }
 },
 "nbformat": 4,
 "nbformat_minor": 5
}
