{
 "cells": [
  {
   "cell_type": "code",
   "execution_count": 2,
   "id": "55bebc0e-40e8-4f48-843f-b02607b28fed",
   "metadata": {},
   "outputs": [],
   "source": [
    "import requests \n",
    "import pandas as pd\n",
    "import numpy as np\n",
    "import json\n",
    "import time\n",
    "\n",
    "import warnings\n",
    "warnings.filterwarnings('ignore')"
   ]
  },
  {
   "cell_type": "markdown",
   "id": "5e687589-a985-4e32-b68e-b180a21828d5",
   "metadata": {},
   "source": [
    "# Aggerate EPA Pollutant Data for each CBSA"
   ]
  },
  {
   "cell_type": "markdown",
   "id": "e045b44c-a555-459d-9919-56286e802215",
   "metadata": {},
   "source": [
    "### Set-up EPA API requests"
   ]
  },
  {
   "cell_type": "code",
   "execution_count": 4,
   "id": "0448d772",
   "metadata": {},
   "outputs": [],
   "source": [
    "# Retrieve EPA API credentials\n",
    "with open(\"../epa_credentials.txt\") as cred_file:\n",
    "    credentials = cred_file.read()\n",
    "    email, key = credentials.split(\"\\n\")\n",
    "    email = email.replace(\"email=\", \"\")\n",
    "    key = key.replace(\"key=\", \"\")"
   ]
  },
  {
   "cell_type": "code",
   "execution_count": 2,
   "id": "23798b3b-40b7-4e52-926c-83381f7ec8db",
   "metadata": {},
   "outputs": [],
   "source": [
    "# Run only once to register with the EPA api\n",
    "response = requests.get(\"https://aqs.epa.gov/data/api/signup?email={}\".format(email))"
   ]
  },
  {
   "cell_type": "code",
   "execution_count": 3,
   "id": "fa4831e2-5a8a-418b-99e4-4e5ea3dc47d7",
   "metadata": {},
   "outputs": [],
   "source": [
    "def get_request(endpoint, parameters=dict()):\n",
    "    '''Build and request an EPA GET endpoint with the appropriate credentials and parameters'''\n",
    "    api_url = 'https://aqs.epa.gov/data/api/'\n",
    "    parameters['email'] = email\n",
    "    parameters['key'] = key\n",
    "    \n",
    "    response = requests.get(api_url + endpoint, params=parameters)\n",
    "    if response.status_code != 200:\n",
    "        print(\"Request to {} failed. Error code {}:{}\".format(api_url + endpoint, response.status_code, response.text))\n",
    "    \n",
    "    response = json.loads(response.text)\n",
    "    return response"
   ]
  },
  {
   "cell_type": "markdown",
   "id": "19367ea9-a2d4-40ea-8be2-9e1f4c4c0f48",
   "metadata": {},
   "source": [
    "### Retrieve all the Discrete Variables"
   ]
  },
  {
   "cell_type": "code",
   "execution_count": 4,
   "id": "4c6f009f-0c24-44a3-89d9-ffac23172c4d",
   "metadata": {},
   "outputs": [],
   "source": [
    "# Retrieve all states \n",
    "response = get_request('list/states')\n",
    "states = dict()\n",
    "for state in response['Data']:\n",
    "    skip = ['Country Of Mexico', 'Canada']\n",
    "    if state['value_represented'] not in skip:\n",
    "        states[state['code']] = state['value_represented']"
   ]
  },
  {
   "cell_type": "code",
   "execution_count": 5,
   "id": "e20117a8-dbcb-41e7-b4aa-cdb0bd9fabb5",
   "metadata": {},
   "outputs": [
    {
     "name": "stdout",
     "output_type": "stream",
     "text": [
      "42101,42401,42602,44201,88502\n"
     ]
    }
   ],
   "source": [
    "# Retrieve pollution metrics\n",
    "response = get_request('list/parametersByClass', {'pc':'AQI POLLUTANTS'})\n",
    "pollutants = dict()\n",
    "for pollutant in response['Data']:\n",
    "    if pollutant['code'] not in ['81102', '88101']:\n",
    "        pollutants[pollutant['code']] = pollutant['value_represented']\n",
    "\n",
    "pollutants_str = ','.join(pollutants.keys())\n",
    "print(pollutants_str)"
   ]
  },
  {
   "cell_type": "code",
   "execution_count": 6,
   "id": "a1c8cf90-4c08-421d-896a-cc79b8296eaa",
   "metadata": {},
   "outputs": [
    {
     "name": "stdout",
     "output_type": "stream",
     "text": [
      "{'42101': 'Carbon monoxide', '42401': 'Sulfur dioxide', '42602': 'Nitrogen dioxide (NO2)', '44201': 'Ozone', '88502': 'Acceptable PM2.5 AQI & Speciation Mass'}\n"
     ]
    }
   ],
   "source": [
    "print(pollutants)"
   ]
  },
  {
   "cell_type": "code",
   "execution_count": 7,
   "id": "bacda567-f4a8-4698-ba07-3a7cf9b041da",
   "metadata": {},
   "outputs": [],
   "source": [
    "#Determine cbsa search space (Census has the smaller amount)\n",
    "census = pd.read_csv('./census_acs.csv')\n",
    "cbsa_possibilites = census['cbsa_code'].unique()"
   ]
  },
  {
   "cell_type": "markdown",
   "id": "fd1746f2-dd3d-4b31-8cd0-78d4950c13fd",
   "metadata": {},
   "source": [
    "### Retrieve the Raw Data for each CBSA, State, and year (2014-2019)"
   ]
  },
  {
   "cell_type": "code",
   "execution_count": null,
   "id": "76681e2a-9012-462d-9283-aba56f71a60a",
   "metadata": {
    "tags": []
   },
   "outputs": [],
   "source": [
    "# attributes = ['state_code', 'county_code', 'cbsa_code', 'site_number', 'year', '\n",
    "data = list()\n",
    "raw_df = pd.DataFrame()\n",
    "for cbsa in cbsa_possibilites:\n",
    "    for state in states.keys():\n",
    "        for year in range(2005, 2020, 1): #2014 - 2019\n",
    "            year_str = '{}0101'.format(year)\n",
    "            params = {'bdate':year_str,\n",
    "                      'edate':year_str,\n",
    "                      'param':pollutants_str,\n",
    "                      'cbsa':cbsa}\n",
    "            response = get_request('annualData/byCBSA', params)\n",
    "            time.sleep(6) #ensure rate/limit of 10 calls per min is adhered\n",
    "\n",
    "            # Add to data frame\n",
    "            data.extend(response['Data'])"
   ]
  },
  {
   "cell_type": "code",
   "execution_count": 29,
   "id": "aeccf27f-512b-4d1d-94a9-4b6b162d6e51",
   "metadata": {},
   "outputs": [],
   "source": [
    "# convert data for dataframe creation\n",
    "data_df = [list(item.values()) for item in data]\n",
    "    \n",
    "df = pd.DataFrame(data_df, columns=data[0].keys())\n",
    "\n",
    "# features = ['latitude', 'longitude', 'datum', 'parameter', 'sample_duration', 'pollutant_standard', 'metric_used', 'year', 'units_of_measure', 'observation_count', 'validity_indicator', 'required_day_count', 'null_observation_count', 'arithmetic_mean', 'standard_deviation', 'first_max_value', 'first_max_date\n",
    "remove = ['local_site_name', 'state_code', 'county_code', 'event_type', 'site_number', 'parameter_code', 'poc', 'pollutant_standard', 'method', 'event-type', 'observation_percent', 'required_day_count', 'exceptional_data_count', 'primary_exceedance_count', 'secondary_exceedance_count', 'certification_indicator', 'first_max_nonoverlap_value', 'first_max_n_o_datetime', 'second_max_nonoverlap_value', 'second_max_n_o_datetime', 'site_address', 'cbsa', 'date_of_last_change']\n",
    "features = [col for col in df.columns if col not in remove]\n",
    "\n",
    "df[features].to_csv('epa_pollution.csv', index=False)"
   ]
  },
  {
   "cell_type": "code",
   "execution_count": 27,
   "id": "05bed114-0e86-4303-8b34-9b4bbf8f9b72",
   "metadata": {},
   "outputs": [
    {
     "data": {
      "text/plain": [
       "(159367, 55)"
      ]
     },
     "execution_count": 27,
     "metadata": {},
     "output_type": "execute_result"
    }
   ],
   "source": [
    "df.shape"
   ]
  },
  {
   "cell_type": "code",
   "execution_count": 24,
   "id": "0e152b9e-06ce-45dc-aaf8-104c7ef6d289",
   "metadata": {},
   "outputs": [],
   "source": [
    "read = pd.read_csv('raw_epa.csv')"
   ]
  },
  {
   "cell_type": "code",
   "execution_count": 66,
   "id": "ee42945b-6cb1-4828-b5e4-0e93fd14e450",
   "metadata": {},
   "outputs": [],
   "source": [
    "# df['location'] = [(i, j) for i, j in zip(df['latitude'], df['longitude'])]\n",
    "df_complete = df[df['cbsa_code'].isnull() == False]\n",
    "cbsa = df_complete['cbsa_code'].unique()\n",
    "poll = df_complete['parameter'].unique()\n",
    "\n",
    "df_complete[(df_complete['cbsa_code'] == cbsa[0]) & (df_complete['parameter'] == poll[0])].to_csv('test.csv')\n"
   ]
  },
  {
   "cell_type": "markdown",
   "id": "2fedd7a0-b69e-4405-b14c-8cc7a349ff94",
   "metadata": {},
   "source": [
    "# Web Scrape the AQI Index Report"
   ]
  },
  {
   "cell_type": "code",
   "execution_count": 63,
   "id": "0e9eec81-302b-44db-b2a2-51df04e96e69",
   "metadata": {},
   "outputs": [],
   "source": [
    "from selenium import webdriver\n",
    "from selenium.webdriver.common.keys import Keys\n",
    "from selenium.webdriver.common.by import By\n",
    "from selenium.webdriver.support.ui import Select\n",
    "from selenium.webdriver.support.ui import WebDriverWait\n",
    "from selenium.webdriver.support import expected_conditions as EC\n",
    "import time\n",
    "\n",
    "# Create driver for the EPA website\n",
    "driver = webdriver.Edge(r'C:\\Users\\Suchi\\Documents\\edgedriver_win32\\msedgedriver.exe')\n",
    "driver.get(\"https://www.epa.gov/outdoor-air-quality-data/air-quality-index-report\")\n",
    "\n",
    "# Retrive drop down options\n",
    "driver.implicitly_wait(10)\n",
    "year_select = Select(driver.find_element_by_id(\"year\"))\n",
    "year_options = [str(i) for i in range(2018, 2020)]\n",
    "year_select.select_by_visible_text('2021') #dummy text to unlock state drop down\n",
    "state_select = Select(driver.find_element_by_id(\"state\"))\n",
    "state_options = [o.text for o in state_select.options]\n",
    "state_options.pop(0)\n",
    "\n",
    "# Iterate through each year and state\n",
    "skip = ['Country Of Mexico', 'Canada', 'Virgin Islands']\n",
    "for year in year_options:\n",
    "    time.sleep(5)\n",
    "    for state in state_options:\n",
    "        if state in skip: break\n",
    "        #Select year\n",
    "        time.sleep(.11)\n",
    "        year_select.select_by_visible_text(year)\n",
    "        #Select state\n",
    "        driver.implicitly_wait(1)\n",
    "        state_select.select_by_visible_text(state)\n",
    "        #Generate csv\n",
    "        driver.find_element_by_id(\"launch\").click()\n",
    "        WebDriverWait(driver, 50).until(EC.element_to_be_clickable((By.XPATH, '//*[@id=\"results\"]/p[2]/a[2]')))\n",
    "        #download csv\n",
    "        driver.find_element_by_xpath('//*[@id=\"results\"]/p[2]/a[2]').click()\n",
    "    \n",
    "driver.quit()"
   ]
  },
  {
   "cell_type": "markdown",
   "id": "e13e4be3-1b2a-4d76-919c-791099a09b01",
   "metadata": {},
   "source": [
    "#### Combine all csv into one dataframe\n",
    "            "
   ]
  },
  {
   "cell_type": "code",
   "execution_count": 67,
   "id": "aa67cae0-66fd-4623-9dd2-7d2e984b1629",
   "metadata": {},
   "outputs": [],
   "source": [
    "import os\n",
    "import re\n",
    "import pandas as pd\n",
    "\n",
    "directory = os.fsencode(\"./aqi_data\")\n",
    "   \n",
    "aqi_df = pd.DataFrame()\n",
    "for file in os.listdir(directory):\n",
    "    filename = os.fsdecode(file)\n",
    "    curr_df = pd.read_csv(\"./aqi_data/\" + filename, na_values='.')\n",
    "    \n",
    "    #add the year\n",
    "    year = re.search(r\"aqireport([0-9]*) .+\", filename)\n",
    "    if not year:\n",
    "        year = re.search(r\"aqireport([0-9]*).csv\", filename)\n",
    "    curr_df['year'] = [year[1]] * curr_df.shape[0]  \n",
    "        \n",
    "    #append df to master df\n",
    "    aqi_df = pd.concat([aqi_df, curr_df], ignore_index=True)\n",
    "    "
   ]
  },
  {
   "cell_type": "code",
   "execution_count": 68,
   "id": "9743d958-f925-4d4f-9e3a-88ee8ab59ca9",
   "metadata": {},
   "outputs": [
    {
     "data": {
      "text/html": [
       "<div>\n",
       "<style scoped>\n",
       "    .dataframe tbody tr th:only-of-type {\n",
       "        vertical-align: middle;\n",
       "    }\n",
       "\n",
       "    .dataframe tbody tr th {\n",
       "        vertical-align: top;\n",
       "    }\n",
       "\n",
       "    .dataframe thead th {\n",
       "        text-align: right;\n",
       "    }\n",
       "</style>\n",
       "<table border=\"1\" class=\"dataframe\">\n",
       "  <thead>\n",
       "    <tr style=\"text-align: right;\">\n",
       "      <th></th>\n",
       "      <th>CBSA Code</th>\n",
       "      <th>CBSA</th>\n",
       "      <th># Days with AQI</th>\n",
       "      <th>Good</th>\n",
       "      <th>Moderate</th>\n",
       "      <th>Unhealthy for Sensitive Groups</th>\n",
       "      <th>Unhealthy</th>\n",
       "      <th>Very Unhealthy</th>\n",
       "      <th>AQI Maximum</th>\n",
       "      <th>AQI 90th Percentile</th>\n",
       "      <th>AQI Median</th>\n",
       "      <th># Days CO</th>\n",
       "      <th># Days NO2</th>\n",
       "      <th># Days O3</th>\n",
       "      <th># Days SO2</th>\n",
       "      <th># Days PM2.5</th>\n",
       "      <th># Days PM10</th>\n",
       "      <th>year</th>\n",
       "    </tr>\n",
       "  </thead>\n",
       "  <tbody>\n",
       "    <tr>\n",
       "      <th>0</th>\n",
       "      <td>11260</td>\n",
       "      <td>Anchorage, AK</td>\n",
       "      <td>303</td>\n",
       "      <td>252.0</td>\n",
       "      <td>48.0</td>\n",
       "      <td>2.0</td>\n",
       "      <td>1.0</td>\n",
       "      <td>NaN</td>\n",
       "      <td>151</td>\n",
       "      <td>57.0</td>\n",
       "      <td>23.0</td>\n",
       "      <td>107.0</td>\n",
       "      <td>NaN</td>\n",
       "      <td>NaN</td>\n",
       "      <td>NaN</td>\n",
       "      <td>96.0</td>\n",
       "      <td>100.0</td>\n",
       "      <td>2005</td>\n",
       "    </tr>\n",
       "    <tr>\n",
       "      <th>1</th>\n",
       "      <td>21820</td>\n",
       "      <td>Fairbanks, AK</td>\n",
       "      <td>225</td>\n",
       "      <td>188.0</td>\n",
       "      <td>34.0</td>\n",
       "      <td>2.0</td>\n",
       "      <td>1.0</td>\n",
       "      <td>NaN</td>\n",
       "      <td>153</td>\n",
       "      <td>69.0</td>\n",
       "      <td>23.0</td>\n",
       "      <td>134.0</td>\n",
       "      <td>NaN</td>\n",
       "      <td>NaN</td>\n",
       "      <td>NaN</td>\n",
       "      <td>91.0</td>\n",
       "      <td>NaN</td>\n",
       "      <td>2005</td>\n",
       "    </tr>\n",
       "    <tr>\n",
       "      <th>2</th>\n",
       "      <td>27940</td>\n",
       "      <td>Juneau, AK</td>\n",
       "      <td>115</td>\n",
       "      <td>99.0</td>\n",
       "      <td>14.0</td>\n",
       "      <td>2.0</td>\n",
       "      <td>NaN</td>\n",
       "      <td>NaN</td>\n",
       "      <td>125</td>\n",
       "      <td>57.0</td>\n",
       "      <td>20.0</td>\n",
       "      <td>NaN</td>\n",
       "      <td>NaN</td>\n",
       "      <td>NaN</td>\n",
       "      <td>NaN</td>\n",
       "      <td>110.0</td>\n",
       "      <td>5.0</td>\n",
       "      <td>2005</td>\n",
       "    </tr>\n",
       "    <tr>\n",
       "      <th>3</th>\n",
       "      <td>10500</td>\n",
       "      <td>Albany, GA</td>\n",
       "      <td>116</td>\n",
       "      <td>53.0</td>\n",
       "      <td>62.0</td>\n",
       "      <td>1.0</td>\n",
       "      <td>NaN</td>\n",
       "      <td>NaN</td>\n",
       "      <td>107</td>\n",
       "      <td>75.0</td>\n",
       "      <td>52.0</td>\n",
       "      <td>NaN</td>\n",
       "      <td>NaN</td>\n",
       "      <td>NaN</td>\n",
       "      <td>NaN</td>\n",
       "      <td>111.0</td>\n",
       "      <td>5.0</td>\n",
       "      <td>2005</td>\n",
       "    </tr>\n",
       "    <tr>\n",
       "      <th>4</th>\n",
       "      <td>11140</td>\n",
       "      <td>Americus, GA</td>\n",
       "      <td>244</td>\n",
       "      <td>175.0</td>\n",
       "      <td>65.0</td>\n",
       "      <td>4.0</td>\n",
       "      <td>NaN</td>\n",
       "      <td>NaN</td>\n",
       "      <td>140</td>\n",
       "      <td>80.0</td>\n",
       "      <td>42.0</td>\n",
       "      <td>NaN</td>\n",
       "      <td>NaN</td>\n",
       "      <td>244.0</td>\n",
       "      <td>NaN</td>\n",
       "      <td>NaN</td>\n",
       "      <td>NaN</td>\n",
       "      <td>2005</td>\n",
       "    </tr>\n",
       "  </tbody>\n",
       "</table>\n",
       "</div>"
      ],
      "text/plain": [
       "   CBSA Code           CBSA  # Days with AQI   Good  Moderate  \\\n",
       "0      11260  Anchorage, AK              303  252.0      48.0   \n",
       "1      21820  Fairbanks, AK              225  188.0      34.0   \n",
       "2      27940     Juneau, AK              115   99.0      14.0   \n",
       "3      10500     Albany, GA              116   53.0      62.0   \n",
       "4      11140   Americus, GA              244  175.0      65.0   \n",
       "\n",
       "   Unhealthy for Sensitive Groups  Unhealthy  Very Unhealthy  AQI Maximum  \\\n",
       "0                             2.0        1.0             NaN          151   \n",
       "1                             2.0        1.0             NaN          153   \n",
       "2                             2.0        NaN             NaN          125   \n",
       "3                             1.0        NaN             NaN          107   \n",
       "4                             4.0        NaN             NaN          140   \n",
       "\n",
       "   AQI 90th Percentile  AQI Median  # Days CO  # Days NO2  # Days O3  \\\n",
       "0                 57.0        23.0      107.0         NaN        NaN   \n",
       "1                 69.0        23.0      134.0         NaN        NaN   \n",
       "2                 57.0        20.0        NaN         NaN        NaN   \n",
       "3                 75.0        52.0        NaN         NaN        NaN   \n",
       "4                 80.0        42.0        NaN         NaN      244.0   \n",
       "\n",
       "   # Days SO2  # Days PM2.5  # Days PM10  year  \n",
       "0         NaN          96.0        100.0  2005  \n",
       "1         NaN          91.0          NaN  2005  \n",
       "2         NaN         110.0          5.0  2005  \n",
       "3         NaN         111.0          5.0  2005  \n",
       "4         NaN           NaN          NaN  2005  "
      ]
     },
     "execution_count": 68,
     "metadata": {},
     "output_type": "execute_result"
    }
   ],
   "source": [
    "aqi_df.head()"
   ]
  },
  {
   "cell_type": "code",
   "execution_count": 69,
   "id": "81ec31c9-6fef-4030-904f-cfdd4e29b2bf",
   "metadata": {},
   "outputs": [],
   "source": [
    "aqi_df['cbsa_code'] = aqi_df['CBSA Code']\n",
    "aqi_df.fillna(0, inplace=True)\n",
    "aqi_df.drop(columns=[\"CBSA\", \"CBSA Code\"]).to_csv(\"aqi_report.csv\", index=False)"
   ]
  },
  {
   "cell_type": "code",
   "execution_count": null,
   "id": "796c4ba6-a014-4893-96f8-aaa287fa4fcd",
   "metadata": {},
   "outputs": [],
   "source": []
  }
 ],
 "metadata": {
  "kernelspec": {
   "display_name": "Python 3 (ipykernel)",
   "language": "python",
   "name": "python3"
  },
  "language_info": {
   "codemirror_mode": {
    "name": "ipython",
    "version": 3
   },
   "file_extension": ".py",
   "mimetype": "text/x-python",
   "name": "python",
   "nbconvert_exporter": "python",
   "pygments_lexer": "ipython3",
   "version": "3.10.4"
  }
 },
 "nbformat": 4,
 "nbformat_minor": 5
}
