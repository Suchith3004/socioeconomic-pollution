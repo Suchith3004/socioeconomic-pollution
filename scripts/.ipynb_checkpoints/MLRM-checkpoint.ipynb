{
 "cells": [
  {
   "cell_type": "code",
   "execution_count": 1,
   "id": "3a9f1bbd",
   "metadata": {},
   "outputs": [],
   "source": [
    "import pandas as pd\n",
    "import numpy as np \n",
    "import matplotlib.pyplot as plt\n",
    "from sklearn import preprocessing, impute, model_selection, decomposition, cluster"
   ]
  },
  {
   "cell_type": "code",
   "execution_count": 2,
   "id": "06c91144",
   "metadata": {},
   "outputs": [],
   "source": [
    "data = pd.read_csv('../dataset/classification_census_aqi.csv')"
   ]
  },
  {
   "cell_type": "code",
   "execution_count": 3,
   "id": "56753c0a",
   "metadata": {},
   "outputs": [],
   "source": [
    "from sklearn.linear_model import LogisticRegression\n",
    "import math\n",
    "from sklearn.model_selection import train_test_split\n",
    "\n",
    "X = data.drop(['aqi_cluster', 'cbsa_code', 'year'],axis=1)\n",
    "y = data.aqi_cluster"
   ]
  },
  {
   "cell_type": "code",
   "execution_count": 4,
   "id": "46670400",
   "metadata": {},
   "outputs": [],
   "source": [
    "# split X and y into training and testing sets\n",
    "X_train,X_test,y_train,y_test=train_test_split(X,y,test_size=0.25,random_state=0)"
   ]
  },
  {
   "cell_type": "code",
   "execution_count": 5,
   "id": "677dbdff",
   "metadata": {},
   "outputs": [],
   "source": [
    "# Over-sampling Technique\n",
    "from imblearn.over_sampling import SMOTE\n",
    "sm = SMOTE()\n",
    "X_train, y_train = sm.fit_resample(X_train, y_train)"
   ]
  },
  {
   "cell_type": "code",
   "execution_count": 6,
   "id": "f0a72ce5",
   "metadata": {},
   "outputs": [],
   "source": [
    "# instantiate the model (using the default parameters)\n",
    "logreg = LogisticRegression(multi_class='multinomial', solver ='newton-cg')\n",
    "\n",
    "# fit the model with data\n",
    "logreg = logreg.fit(X_train,y_train)\n",
    "\n",
    "# prediction\n",
    "y_pred=logreg.predict(X_test)"
   ]
  },
  {
   "cell_type": "code",
   "execution_count": 7,
   "id": "422da75c",
   "metadata": {},
   "outputs": [],
   "source": [
    "from sklearn.metrics import classification_report\n",
    "from sklearn import metrics \n",
    "from sklearn.metrics import confusion_matrix"
   ]
  },
  {
   "cell_type": "code",
   "execution_count": 8,
   "id": "fc5e5069",
   "metadata": {},
   "outputs": [
    {
     "data": {
      "text/plain": [
       "array([[  7,   0,   2],\n",
       "       [106, 239, 207],\n",
       "       [ 71, 204, 293]], dtype=int64)"
      ]
     },
     "execution_count": 8,
     "metadata": {},
     "output_type": "execute_result"
    }
   ],
   "source": [
    "confusion_matrix(y_test, y_pred)"
   ]
  },
  {
   "cell_type": "code",
   "execution_count": 9,
   "id": "8f911844",
   "metadata": {},
   "outputs": [
    {
     "name": "stdout",
     "output_type": "stream",
     "text": [
      "Accuracy Score: 0.47741364038972545\n"
     ]
    }
   ],
   "source": [
    "print('Accuracy Score:', metrics.accuracy_score(y_test, y_pred))  "
   ]
  },
  {
   "cell_type": "code",
   "execution_count": 10,
   "id": "4d2e31bf",
   "metadata": {},
   "outputs": [
    {
     "name": "stdout",
     "output_type": "stream",
     "text": [
      "              precision    recall  f1-score   support\n",
      "\n",
      "         0.0       0.04      0.78      0.07         9\n",
      "         1.0       0.54      0.43      0.48       552\n",
      "         2.0       0.58      0.52      0.55       568\n",
      "\n",
      "    accuracy                           0.48      1129\n",
      "   macro avg       0.39      0.58      0.37      1129\n",
      "weighted avg       0.56      0.48      0.51      1129\n",
      "\n"
     ]
    }
   ],
   "source": [
    "class_report=classification_report(y_test, y_pred)\n",
    "print(class_report)"
   ]
  }
 ],
 "metadata": {
  "kernelspec": {
   "display_name": "Python 3 (ipykernel)",
   "language": "python",
   "name": "python3"
  },
  "language_info": {
   "codemirror_mode": {
    "name": "ipython",
    "version": 3
   },
   "file_extension": ".py",
   "mimetype": "text/x-python",
   "name": "python",
   "nbconvert_exporter": "python",
   "pygments_lexer": "ipython3",
   "version": "3.10.0"
  }
 },
 "nbformat": 4,
 "nbformat_minor": 5
}
