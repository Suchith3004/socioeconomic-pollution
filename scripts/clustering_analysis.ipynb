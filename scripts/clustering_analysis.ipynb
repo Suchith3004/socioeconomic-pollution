{
 "cells": [
  {
   "cell_type": "code",
   "execution_count": 29,
   "id": "a860ba3d-4d68-47b0-a259-1981268765c4",
   "metadata": {},
   "outputs": [],
   "source": [
    "import pandas as pd\n",
    "import numpy as np \n",
    "import matplotlib.pyplot as plt\n",
    "from sklearn import preprocessing, impute, model_selection, decomposition"
   ]
  },
  {
   "cell_type": "markdown",
   "id": "3c65267d-ef06-42bf-897f-ce51afe16b25",
   "metadata": {},
   "source": [
    "### Import EPA Pollution and Census American Community Survey Data"
   ]
  },
  {
   "cell_type": "code",
   "execution_count": 72,
   "id": "9be670f0-34af-44fe-a1a4-c58e0e6e5615",
   "metadata": {},
   "outputs": [],
   "source": [
    "epa = pd.read_csv('../dataset/epa_pollution.csv')\n",
    "census = pd.read_csv('../dataset/census_acs.csv')\n",
    "\n",
    "#only use data with common cbsa codes\n",
    "common_cbsa = set(epa['cbsa_code'].unique())\n",
    "common_cbsa.intersection_update(census['cbsa_code'].unique())\n",
    "\n",
    "# Standardized cbsa code datasets\n",
    "pollution = epa[epa['cbsa_code'].isin(common_cbsa)]\n",
    "soc_econ = census[census['cbsa_code'].isin(common_cbsa)]"
   ]
  },
  {
   "cell_type": "code",
   "execution_count": 73,
   "id": "5f921999-c263-4849-a8a6-9348598a3dad",
   "metadata": {},
   "outputs": [
    {
     "data": {
      "text/plain": [
       "339"
      ]
     },
     "execution_count": 73,
     "metadata": {},
     "output_type": "execute_result"
    }
   ],
   "source": [
    "len(common_cbsa)"
   ]
  },
  {
   "cell_type": "markdown",
   "id": "b9ec9287-41c2-4faf-9afb-3dcf3387c5b1",
   "metadata": {},
   "source": [
    "## Data Preprocessing"
   ]
  },
  {
   "cell_type": "markdown",
   "id": "4c066bf1-6782-446a-952e-956d2b7d4056",
   "metadata": {},
   "source": [
    "### Census ACS "
   ]
  },
  {
   "cell_type": "code",
   "execution_count": 74,
   "id": "bae56d0b-66e8-4c7b-8077-ad6ffce2e92e",
   "metadata": {},
   "outputs": [
    {
     "data": {
      "text/html": [
       "<div>\n",
       "<style scoped>\n",
       "    .dataframe tbody tr th:only-of-type {\n",
       "        vertical-align: middle;\n",
       "    }\n",
       "\n",
       "    .dataframe tbody tr th {\n",
       "        vertical-align: top;\n",
       "    }\n",
       "\n",
       "    .dataframe thead th {\n",
       "        text-align: right;\n",
       "    }\n",
       "</style>\n",
       "<table border=\"1\" class=\"dataframe\">\n",
       "  <thead>\n",
       "    <tr style=\"text-align: right;\">\n",
       "      <th></th>\n",
       "      <th>cbsa_code</th>\n",
       "      <th>Less than high school graduate</th>\n",
       "      <th>High school graduate (includes equivalency)</th>\n",
       "      <th>Some college or associate's degree</th>\n",
       "      <th>Bachelor's degree</th>\n",
       "      <th>Graduate or professional degree</th>\n",
       "      <th>$45,000 to $49,999</th>\n",
       "      <th>$50,000 to $59,999</th>\n",
       "      <th>$60,000 to $74,999</th>\n",
       "      <th>$75,000 to $99,999</th>\n",
       "      <th>...</th>\n",
       "      <th>Educational services, and health care and social assistance</th>\n",
       "      <th>Arts, entertainment, and recreation, and accommodation and food services</th>\n",
       "      <th>Other services, except public administration</th>\n",
       "      <th>Public administration</th>\n",
       "      <th>Management, business, science, and arts occupations</th>\n",
       "      <th>Service occupations</th>\n",
       "      <th>Sales and office occupations</th>\n",
       "      <th>Natural resources, construction, and maintenance occupations</th>\n",
       "      <th>Production, transportation, and material moving occupations</th>\n",
       "      <th>year</th>\n",
       "    </tr>\n",
       "  </thead>\n",
       "  <tbody>\n",
       "    <tr>\n",
       "      <th>1</th>\n",
       "      <td>10420</td>\n",
       "      <td>0.109590</td>\n",
       "      <td>0.342669</td>\n",
       "      <td>0.266596</td>\n",
       "      <td>0.183831</td>\n",
       "      <td>0.097314</td>\n",
       "      <td>0.043547</td>\n",
       "      <td>0.085722</td>\n",
       "      <td>0.105218</td>\n",
       "      <td>0.116918</td>\n",
       "      <td>...</td>\n",
       "      <td>0.224313</td>\n",
       "      <td>0.087933</td>\n",
       "      <td>0.047411</td>\n",
       "      <td>0.029834</td>\n",
       "      <td>0.341412</td>\n",
       "      <td>0.164147</td>\n",
       "      <td>0.268786</td>\n",
       "      <td>0.001810</td>\n",
       "      <td>0.223845</td>\n",
       "      <td>2005</td>\n",
       "    </tr>\n",
       "    <tr>\n",
       "      <th>2</th>\n",
       "      <td>10500</td>\n",
       "      <td>0.214530</td>\n",
       "      <td>0.323630</td>\n",
       "      <td>0.276552</td>\n",
       "      <td>0.115232</td>\n",
       "      <td>0.070055</td>\n",
       "      <td>0.046814</td>\n",
       "      <td>0.099690</td>\n",
       "      <td>0.111882</td>\n",
       "      <td>0.087279</td>\n",
       "      <td>...</td>\n",
       "      <td>0.221430</td>\n",
       "      <td>0.066773</td>\n",
       "      <td>0.066212</td>\n",
       "      <td>0.076664</td>\n",
       "      <td>0.300161</td>\n",
       "      <td>0.138019</td>\n",
       "      <td>0.246350</td>\n",
       "      <td>0.009773</td>\n",
       "      <td>0.305697</td>\n",
       "      <td>2005</td>\n",
       "    </tr>\n",
       "    <tr>\n",
       "      <th>3</th>\n",
       "      <td>10580</td>\n",
       "      <td>0.097922</td>\n",
       "      <td>0.308826</td>\n",
       "      <td>0.284550</td>\n",
       "      <td>0.169404</td>\n",
       "      <td>0.139298</td>\n",
       "      <td>0.046200</td>\n",
       "      <td>0.092376</td>\n",
       "      <td>0.111600</td>\n",
       "      <td>0.137878</td>\n",
       "      <td>...</td>\n",
       "      <td>0.259730</td>\n",
       "      <td>0.069128</td>\n",
       "      <td>0.038137</td>\n",
       "      <td>0.110608</td>\n",
       "      <td>0.397041</td>\n",
       "      <td>0.151805</td>\n",
       "      <td>0.270669</td>\n",
       "      <td>0.002259</td>\n",
       "      <td>0.178227</td>\n",
       "      <td>2005</td>\n",
       "    </tr>\n",
       "    <tr>\n",
       "      <th>4</th>\n",
       "      <td>10740</td>\n",
       "      <td>0.140155</td>\n",
       "      <td>0.265774</td>\n",
       "      <td>0.293919</td>\n",
       "      <td>0.169377</td>\n",
       "      <td>0.130775</td>\n",
       "      <td>0.043810</td>\n",
       "      <td>0.083659</td>\n",
       "      <td>0.113831</td>\n",
       "      <td>0.102810</td>\n",
       "      <td>...</td>\n",
       "      <td>0.223604</td>\n",
       "      <td>0.094226</td>\n",
       "      <td>0.045499</td>\n",
       "      <td>0.063296</td>\n",
       "      <td>0.374627</td>\n",
       "      <td>0.166710</td>\n",
       "      <td>0.264363</td>\n",
       "      <td>0.002006</td>\n",
       "      <td>0.192294</td>\n",
       "      <td>2005</td>\n",
       "    </tr>\n",
       "    <tr>\n",
       "      <th>5</th>\n",
       "      <td>10780</td>\n",
       "      <td>0.176673</td>\n",
       "      <td>0.371108</td>\n",
       "      <td>0.262197</td>\n",
       "      <td>0.136293</td>\n",
       "      <td>0.053729</td>\n",
       "      <td>0.041082</td>\n",
       "      <td>0.072454</td>\n",
       "      <td>0.070793</td>\n",
       "      <td>0.091749</td>\n",
       "      <td>...</td>\n",
       "      <td>0.302493</td>\n",
       "      <td>0.063796</td>\n",
       "      <td>0.038255</td>\n",
       "      <td>0.085138</td>\n",
       "      <td>0.334400</td>\n",
       "      <td>0.170620</td>\n",
       "      <td>0.256644</td>\n",
       "      <td>0.007136</td>\n",
       "      <td>0.231201</td>\n",
       "      <td>2005</td>\n",
       "    </tr>\n",
       "  </tbody>\n",
       "</table>\n",
       "<p>5 rows × 33 columns</p>\n",
       "</div>"
      ],
      "text/plain": [
       "   cbsa_code  Less than high school graduate  \\\n",
       "1      10420                        0.109590   \n",
       "2      10500                        0.214530   \n",
       "3      10580                        0.097922   \n",
       "4      10740                        0.140155   \n",
       "5      10780                        0.176673   \n",
       "\n",
       "   High school graduate (includes equivalency)  \\\n",
       "1                                     0.342669   \n",
       "2                                     0.323630   \n",
       "3                                     0.308826   \n",
       "4                                     0.265774   \n",
       "5                                     0.371108   \n",
       "\n",
       "   Some college or associate's degree  Bachelor's degree  \\\n",
       "1                            0.266596           0.183831   \n",
       "2                            0.276552           0.115232   \n",
       "3                            0.284550           0.169404   \n",
       "4                            0.293919           0.169377   \n",
       "5                            0.262197           0.136293   \n",
       "\n",
       "   Graduate or professional degree  $45,000 to $49,999  $50,000 to $59,999  \\\n",
       "1                         0.097314            0.043547            0.085722   \n",
       "2                         0.070055            0.046814            0.099690   \n",
       "3                         0.139298            0.046200            0.092376   \n",
       "4                         0.130775            0.043810            0.083659   \n",
       "5                         0.053729            0.041082            0.072454   \n",
       "\n",
       "   $60,000 to $74,999  $75,000 to $99,999  ...  \\\n",
       "1            0.105218            0.116918  ...   \n",
       "2            0.111882            0.087279  ...   \n",
       "3            0.111600            0.137878  ...   \n",
       "4            0.113831            0.102810  ...   \n",
       "5            0.070793            0.091749  ...   \n",
       "\n",
       "   Educational services, and health care and social assistance  \\\n",
       "1                                           0.224313             \n",
       "2                                           0.221430             \n",
       "3                                           0.259730             \n",
       "4                                           0.223604             \n",
       "5                                           0.302493             \n",
       "\n",
       "   Arts, entertainment, and recreation, and accommodation and food services  \\\n",
       "1                                           0.087933                          \n",
       "2                                           0.066773                          \n",
       "3                                           0.069128                          \n",
       "4                                           0.094226                          \n",
       "5                                           0.063796                          \n",
       "\n",
       "   Other services, except public administration  Public administration  \\\n",
       "1                                      0.047411               0.029834   \n",
       "2                                      0.066212               0.076664   \n",
       "3                                      0.038137               0.110608   \n",
       "4                                      0.045499               0.063296   \n",
       "5                                      0.038255               0.085138   \n",
       "\n",
       "   Management, business, science, and arts occupations  Service occupations  \\\n",
       "1                                           0.341412               0.164147   \n",
       "2                                           0.300161               0.138019   \n",
       "3                                           0.397041               0.151805   \n",
       "4                                           0.374627               0.166710   \n",
       "5                                           0.334400               0.170620   \n",
       "\n",
       "   Sales and office occupations  \\\n",
       "1                      0.268786   \n",
       "2                      0.246350   \n",
       "3                      0.270669   \n",
       "4                      0.264363   \n",
       "5                      0.256644   \n",
       "\n",
       "   Natural resources, construction, and maintenance occupations  \\\n",
       "1                                           0.001810              \n",
       "2                                           0.009773              \n",
       "3                                           0.002259              \n",
       "4                                           0.002006              \n",
       "5                                           0.007136              \n",
       "\n",
       "   Production, transportation, and material moving occupations  year  \n",
       "1                                           0.223845            2005  \n",
       "2                                           0.305697            2005  \n",
       "3                                           0.178227            2005  \n",
       "4                                           0.192294            2005  \n",
       "5                                           0.231201            2005  \n",
       "\n",
       "[5 rows x 33 columns]"
      ]
     },
     "execution_count": 74,
     "metadata": {},
     "output_type": "execute_result"
    }
   ],
   "source": [
    "# Remove redundant/irrelevant columns\n",
    "soc_econ = soc_econ.drop(['metropolitan_area', 'city', 'state'], axis=1)\n",
    "\n",
    "# Normalize columns\n",
    "# Income\n",
    "income = [i for i in soc_econ.columns if '$' in i]\n",
    "for col in income:\n",
    "    soc_econ[col] = soc_econ[col]/soc_econ['Income_Total']\n",
    "soc_econ.drop('Income_Total', axis=1, inplace=True)\n",
    "\n",
    "#Education\n",
    "education = [i for i in soc_econ.columns if ('degree' in i) or ('graduate' in i)]\n",
    "for col in education:\n",
    "    soc_econ[col] = soc_econ[col]/soc_econ['Education_Total']\n",
    "soc_econ.drop('Education_Total', axis=1, inplace=True)\n",
    "\n",
    "# Occupation\n",
    "occupation = [i for i in soc_econ.columns if (i not in income) and (i not in education) and (i not in ['cbsa_code', 'year', 'Occupation_Total'])]\n",
    "for col in occupation:\n",
    "    soc_econ[col] = soc_econ[col]/soc_econ['Occupation_Total']\n",
    "soc_econ.drop('Occupation_Total', axis=1, inplace=True)\n",
    "\n",
    "soc_econ.sort_values(['year', 'cbsa_code'], axis=0, inplace=True)\n",
    "soc_econ.head()"
   ]
  },
  {
   "cell_type": "code",
   "execution_count": 75,
   "id": "94ae6f1a-d76d-482b-a80e-65e8052a7c3b",
   "metadata": {},
   "outputs": [
    {
     "data": {
      "text/plain": [
       "(4644, 33)"
      ]
     },
     "execution_count": 75,
     "metadata": {},
     "output_type": "execute_result"
    }
   ],
   "source": [
    "soc_econ.shape"
   ]
  },
  {
   "cell_type": "markdown",
   "id": "e6ebde65-8de3-4f08-8b8b-db2e4df62e58",
   "metadata": {},
   "source": [
    "#### PCA"
   ]
  },
  {
   "cell_type": "markdown",
   "id": "f4c242a5-21bf-4eb9-a134-57c5da80cdf2",
   "metadata": {},
   "source": [
    "Since there are 33 attributes and only 5K instances, it may not be sufficient for a successful clustering analysis."
   ]
  },
  {
   "cell_type": "code",
   "execution_count": 84,
   "id": "3a676c76-aec0-4d0f-b029-6de9270daa5a",
   "metadata": {},
   "outputs": [
    {
     "data": {
      "text/plain": [
       "(4644, 11)"
      ]
     },
     "execution_count": 84,
     "metadata": {},
     "output_type": "execute_result"
    }
   ],
   "source": [
    "#Capture 90% variance \n",
    "pca = decomposition.PCA(n_components=.90, svd_solver='full')\n",
    "\n",
    "#only apply PCA on the continious variables \n",
    "continuous = soc_econ.drop(['cbsa_code', 'year'], axis=1)\n",
    "reduced_census = pd.DataFrame(pca.fit_transform(continuous))\n",
    "reduced_census['cbsa_code'] = soc_econ['cbsa_code']\n",
    "reduced_census['year'] = soc_econ['year']\n",
    "\n",
    "soc_econ = red_census\n",
    "soc_econ.shape"
   ]
  },
  {
   "cell_type": "markdown",
   "id": "ea556bc9-b8cb-4ac7-992b-2535a0f6fb42",
   "metadata": {},
   "source": [
    "### EPA Pollution"
   ]
  },
  {
   "cell_type": "markdown",
   "id": "c8021317-314b-43d0-9ef2-29d3d5bfe8c2",
   "metadata": {},
   "source": [
    "Clean up data, to remove scarse data points (cities that don't have enough measurements per year or pollutants)"
   ]
  },
  {
   "cell_type": "code",
   "execution_count": 28,
   "id": "cd070286-42ec-4e87-9947-52dbc948320e",
   "metadata": {},
   "outputs": [],
   "source": [
    "pollution = pollution.sort_values(['year', 'cbsa_code', 'parameter', 'sample_duration', 'datum', 'metric_used'], axis=0) # Sort by timeseries, cbsa..\n",
    "pollution = pollution[pollution['observation_count'] > 365]                                                              # remove instances without sufficent year observations \n",
    "\n",
    "#Remove clearly unecessary and redundant columns\n",
    "skip = ['latitude', 'longitude', 'metric_used', 'state', 'county', 'city']\n",
    "skip.extend([i for i in pollution.columns if 'datetime' in i])\n",
    "pollution = pollution.drop(columns=skip)\n",
    "pollution[pollution['parameter'].str.contains('PM2.5')].to_csv('../dataset/epa_pollution_clean.csv', index=False)        \n",
    "\n",
    "# pollution.groupby(['parameter', 'sample_duration', 'metric_used']).size().reset_index().rename(columns={0:'count'})"
   ]
  },
  {
   "cell_type": "code",
   "execution_count": null,
   "id": "6c657a0a-e4db-4f7d-bfc8-dae64de8d8d3",
   "metadata": {},
   "outputs": [],
   "source": []
  },
  {
   "cell_type": "markdown",
   "id": "e172ba1e-028b-4151-bd47-22298d4dfaf7",
   "metadata": {},
   "source": [
    "###  Dynamic Time Warping K-Means Clustering"
   ]
  },
  {
   "cell_type": "code",
   "execution_count": 59,
   "id": "e5617562-06be-49d0-8d8d-004f4153a64f",
   "metadata": {},
   "outputs": [],
   "source": [
    "from tslearn.clustering import TimeSeriesKMeans\n",
    "\n",
    "model = TimeSeriesKMeans(n_clusters=3, metric=\"dtw\", max_iter=50, random_state=143)\n",
    "y_pred = model.fit_predict(soc_econ)"
   ]
  },
  {
   "cell_type": "code",
   "execution_count": 60,
   "id": "e3066487-8607-462d-ad35-26f4f7c6fef4",
   "metadata": {},
   "outputs": [
    {
     "data": {
      "text/plain": [
       "(3, 33, 1)"
      ]
     },
     "execution_count": 60,
     "metadata": {},
     "output_type": "execute_result"
    }
   ],
   "source": [
    "model.cluster_centers_.shape"
   ]
  },
  {
   "cell_type": "code",
   "execution_count": 74,
   "id": "07108a7f-59e8-473a-8d2e-af9bb722b5c7",
   "metadata": {},
   "outputs": [
    {
     "data": {
      "image/png": "[encoded data removed]",
      "text/plain": [
       "<Figure size 432x288 with 3 Axes>"
      ]
     },
     "metadata": {
      "needs_background": "light"
     },
     "output_type": "display_data"
    }
   ],
   "source": [
    "for yi in range(3):\n",
    "    plt.subplot(3, 3, 7 + yi)    \n",
    "    plt.plot(model.cluster_centers_[yi].ravel(), \"r-\")\n",
    "    plt.text(0.55, 0.85,'Cluster %d' % (yi + 1),\n",
    "             transform=plt.gca().transAxes)\n",
    "    if yi == 1:\n",
    "        plt.title(\"DTW $k$-means\")\n",
    "\n",
    "plt.tight_layout() \n",
    "plt.show()"
   ]
  },
  {
   "cell_type": "code",
   "execution_count": null,
   "id": "8afd0972-b399-46af-b3ac-f398f653bfba",
   "metadata": {},
   "outputs": [],
   "source": []
  }
 ],
 "metadata": {
  "kernelspec": {
   "display_name": "Python 3 (ipykernel)",
   "language": "python",
   "name": "python3"
  },
  "language_info": {
   "codemirror_mode": {
    "name": "ipython",
    "version": 3
   },
   "file_extension": ".py",
   "mimetype": "text/x-python",
   "name": "python",
   "nbconvert_exporter": "python",
   "pygments_lexer": "ipython3",
   "version": "3.8.8"
  }
 },
 "nbformat": 4,
 "nbformat_minor": 5
}
