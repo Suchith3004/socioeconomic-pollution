{
 "cells": [
  {
   "cell_type": "code",
   "execution_count": 1,
   "id": "a860ba3d-4d68-47b0-a259-1981268765c4",
   "metadata": {},
   "outputs": [],
   "source": [
    "import pandas as pd\n",
    "import numpy as np \n",
    "import matplotlib.pyplot as plt\n",
    "from sklearn import preprocessing, impute, model_selection, decomposition, cluster"
   ]
  },
  {
   "cell_type": "markdown",
   "id": "3c65267d-ef06-42bf-897f-ce51afe16b25",
   "metadata": {},
   "source": [
    "### Import EPA Pollution and Census American Community Survey Data"
   ]
  },
  {
   "cell_type": "code",
   "execution_count": 2,
   "id": "9be670f0-34af-44fe-a1a4-c58e0e6e5615",
   "metadata": {},
   "outputs": [],
   "source": [
    "epa = pd.read_csv('../dataset/epa_pollution.csv')\n",
    "census = pd.read_csv('../dataset/census_acs.csv')\n",
    "aqi = pd.read_csv('../dataset/aqi_report.csv')\n",
    "\n",
    "#only use data with common cbsa codes\n",
    "common_cbsa = [i for i in epa['cbsa_code'].unique() if (i in census['cbsa_code'].unique()) and (i in aqi['cbsa_code'].unique())]\n",
    "\n",
    "# Standardized cbsa code datasets\n",
    "pollution = epa[epa['cbsa_code'].isin(common_cbsa)]\n",
    "soc_econ = census[census['cbsa_code'].isin(common_cbsa)]\n",
    "aqi_report = aqi[aqi['cbsa_code'].isin(common_cbsa)]"
   ]
  },
  {
   "cell_type": "code",
   "execution_count": 3,
   "id": "5f921999-c263-4849-a8a6-9348598a3dad",
   "metadata": {},
   "outputs": [
    {
     "data": {
      "text/plain": [
       "339"
      ]
     },
     "execution_count": 3,
     "metadata": {},
     "output_type": "execute_result"
    }
   ],
   "source": [
    "len(common_cbsa)"
   ]
  },
  {
   "cell_type": "markdown",
   "id": "b9ec9287-41c2-4faf-9afb-3dcf3387c5b1",
   "metadata": {},
   "source": [
    "## Data Preprocessing"
   ]
  },
  {
   "cell_type": "markdown",
   "id": "4c066bf1-6782-446a-952e-956d2b7d4056",
   "metadata": {},
   "source": [
    "### Census ACS "
   ]
  },
  {
   "cell_type": "code",
   "execution_count": 4,
   "id": "bae56d0b-66e8-4c7b-8077-ad6ffce2e92e",
   "metadata": {},
   "outputs": [
    {
     "data": {
      "text/html": [
       "<div>\n",
       "<style scoped>\n",
       "    .dataframe tbody tr th:only-of-type {\n",
       "        vertical-align: middle;\n",
       "    }\n",
       "\n",
       "    .dataframe tbody tr th {\n",
       "        vertical-align: top;\n",
       "    }\n",
       "\n",
       "    .dataframe thead th {\n",
       "        text-align: right;\n",
       "    }\n",
       "</style>\n",
       "<table border=\"1\" class=\"dataframe\">\n",
       "  <thead>\n",
       "    <tr style=\"text-align: right;\">\n",
       "      <th></th>\n",
       "      <th>cbsa_code</th>\n",
       "      <th>Less than high school graduate</th>\n",
       "      <th>High school graduate (includes equivalency)</th>\n",
       "      <th>Some college or associate's degree</th>\n",
       "      <th>Bachelor's degree</th>\n",
       "      <th>Graduate or professional degree</th>\n",
       "      <th>$45,000 to $49,999</th>\n",
       "      <th>$50,000 to $59,999</th>\n",
       "      <th>$60,000 to $74,999</th>\n",
       "      <th>$75,000 to $99,999</th>\n",
       "      <th>...</th>\n",
       "      <th>Educational services, and health care and social assistance</th>\n",
       "      <th>Arts, entertainment, and recreation, and accommodation and food services</th>\n",
       "      <th>Other services, except public administration</th>\n",
       "      <th>Public administration</th>\n",
       "      <th>Management, business, science, and arts occupations</th>\n",
       "      <th>Service occupations</th>\n",
       "      <th>Sales and office occupations</th>\n",
       "      <th>Natural resources, construction, and maintenance occupations</th>\n",
       "      <th>Production, transportation, and material moving occupations</th>\n",
       "      <th>year</th>\n",
       "    </tr>\n",
       "  </thead>\n",
       "  <tbody>\n",
       "    <tr>\n",
       "      <th>1</th>\n",
       "      <td>10420</td>\n",
       "      <td>0.109590</td>\n",
       "      <td>0.342669</td>\n",
       "      <td>0.266596</td>\n",
       "      <td>0.183831</td>\n",
       "      <td>0.097314</td>\n",
       "      <td>0.043547</td>\n",
       "      <td>0.085722</td>\n",
       "      <td>0.105218</td>\n",
       "      <td>0.116918</td>\n",
       "      <td>...</td>\n",
       "      <td>0.224313</td>\n",
       "      <td>0.087933</td>\n",
       "      <td>0.047411</td>\n",
       "      <td>0.029834</td>\n",
       "      <td>0.341412</td>\n",
       "      <td>0.164147</td>\n",
       "      <td>0.268786</td>\n",
       "      <td>0.001810</td>\n",
       "      <td>0.223845</td>\n",
       "      <td>2005</td>\n",
       "    </tr>\n",
       "    <tr>\n",
       "      <th>2</th>\n",
       "      <td>10500</td>\n",
       "      <td>0.214530</td>\n",
       "      <td>0.323630</td>\n",
       "      <td>0.276552</td>\n",
       "      <td>0.115232</td>\n",
       "      <td>0.070055</td>\n",
       "      <td>0.046814</td>\n",
       "      <td>0.099690</td>\n",
       "      <td>0.111882</td>\n",
       "      <td>0.087279</td>\n",
       "      <td>...</td>\n",
       "      <td>0.221430</td>\n",
       "      <td>0.066773</td>\n",
       "      <td>0.066212</td>\n",
       "      <td>0.076664</td>\n",
       "      <td>0.300161</td>\n",
       "      <td>0.138019</td>\n",
       "      <td>0.246350</td>\n",
       "      <td>0.009773</td>\n",
       "      <td>0.305697</td>\n",
       "      <td>2005</td>\n",
       "    </tr>\n",
       "    <tr>\n",
       "      <th>3</th>\n",
       "      <td>10580</td>\n",
       "      <td>0.097922</td>\n",
       "      <td>0.308826</td>\n",
       "      <td>0.284550</td>\n",
       "      <td>0.169404</td>\n",
       "      <td>0.139298</td>\n",
       "      <td>0.046200</td>\n",
       "      <td>0.092376</td>\n",
       "      <td>0.111600</td>\n",
       "      <td>0.137878</td>\n",
       "      <td>...</td>\n",
       "      <td>0.259730</td>\n",
       "      <td>0.069128</td>\n",
       "      <td>0.038137</td>\n",
       "      <td>0.110608</td>\n",
       "      <td>0.397041</td>\n",
       "      <td>0.151805</td>\n",
       "      <td>0.270669</td>\n",
       "      <td>0.002259</td>\n",
       "      <td>0.178227</td>\n",
       "      <td>2005</td>\n",
       "    </tr>\n",
       "    <tr>\n",
       "      <th>4</th>\n",
       "      <td>10740</td>\n",
       "      <td>0.140155</td>\n",
       "      <td>0.265774</td>\n",
       "      <td>0.293919</td>\n",
       "      <td>0.169377</td>\n",
       "      <td>0.130775</td>\n",
       "      <td>0.043810</td>\n",
       "      <td>0.083659</td>\n",
       "      <td>0.113831</td>\n",
       "      <td>0.102810</td>\n",
       "      <td>...</td>\n",
       "      <td>0.223604</td>\n",
       "      <td>0.094226</td>\n",
       "      <td>0.045499</td>\n",
       "      <td>0.063296</td>\n",
       "      <td>0.374627</td>\n",
       "      <td>0.166710</td>\n",
       "      <td>0.264363</td>\n",
       "      <td>0.002006</td>\n",
       "      <td>0.192294</td>\n",
       "      <td>2005</td>\n",
       "    </tr>\n",
       "    <tr>\n",
       "      <th>5</th>\n",
       "      <td>10780</td>\n",
       "      <td>0.176673</td>\n",
       "      <td>0.371108</td>\n",
       "      <td>0.262197</td>\n",
       "      <td>0.136293</td>\n",
       "      <td>0.053729</td>\n",
       "      <td>0.041082</td>\n",
       "      <td>0.072454</td>\n",
       "      <td>0.070793</td>\n",
       "      <td>0.091749</td>\n",
       "      <td>...</td>\n",
       "      <td>0.302493</td>\n",
       "      <td>0.063796</td>\n",
       "      <td>0.038255</td>\n",
       "      <td>0.085138</td>\n",
       "      <td>0.334400</td>\n",
       "      <td>0.170620</td>\n",
       "      <td>0.256644</td>\n",
       "      <td>0.007136</td>\n",
       "      <td>0.231201</td>\n",
       "      <td>2005</td>\n",
       "    </tr>\n",
       "  </tbody>\n",
       "</table>\n",
       "<p>5 rows × 33 columns</p>\n",
       "</div>"
      ],
      "text/plain": [
       "   cbsa_code  Less than high school graduate  \\\n",
       "1      10420                        0.109590   \n",
       "2      10500                        0.214530   \n",
       "3      10580                        0.097922   \n",
       "4      10740                        0.140155   \n",
       "5      10780                        0.176673   \n",
       "\n",
       "   High school graduate (includes equivalency)  \\\n",
       "1                                     0.342669   \n",
       "2                                     0.323630   \n",
       "3                                     0.308826   \n",
       "4                                     0.265774   \n",
       "5                                     0.371108   \n",
       "\n",
       "   Some college or associate's degree  Bachelor's degree  \\\n",
       "1                            0.266596           0.183831   \n",
       "2                            0.276552           0.115232   \n",
       "3                            0.284550           0.169404   \n",
       "4                            0.293919           0.169377   \n",
       "5                            0.262197           0.136293   \n",
       "\n",
       "   Graduate or professional degree  $45,000 to $49,999  $50,000 to $59,999  \\\n",
       "1                         0.097314            0.043547            0.085722   \n",
       "2                         0.070055            0.046814            0.099690   \n",
       "3                         0.139298            0.046200            0.092376   \n",
       "4                         0.130775            0.043810            0.083659   \n",
       "5                         0.053729            0.041082            0.072454   \n",
       "\n",
       "   $60,000 to $74,999  $75,000 to $99,999  ...  \\\n",
       "1            0.105218            0.116918  ...   \n",
       "2            0.111882            0.087279  ...   \n",
       "3            0.111600            0.137878  ...   \n",
       "4            0.113831            0.102810  ...   \n",
       "5            0.070793            0.091749  ...   \n",
       "\n",
       "   Educational services, and health care and social assistance  \\\n",
       "1                                           0.224313             \n",
       "2                                           0.221430             \n",
       "3                                           0.259730             \n",
       "4                                           0.223604             \n",
       "5                                           0.302493             \n",
       "\n",
       "   Arts, entertainment, and recreation, and accommodation and food services  \\\n",
       "1                                           0.087933                          \n",
       "2                                           0.066773                          \n",
       "3                                           0.069128                          \n",
       "4                                           0.094226                          \n",
       "5                                           0.063796                          \n",
       "\n",
       "   Other services, except public administration  Public administration  \\\n",
       "1                                      0.047411               0.029834   \n",
       "2                                      0.066212               0.076664   \n",
       "3                                      0.038137               0.110608   \n",
       "4                                      0.045499               0.063296   \n",
       "5                                      0.038255               0.085138   \n",
       "\n",
       "   Management, business, science, and arts occupations  Service occupations  \\\n",
       "1                                           0.341412               0.164147   \n",
       "2                                           0.300161               0.138019   \n",
       "3                                           0.397041               0.151805   \n",
       "4                                           0.374627               0.166710   \n",
       "5                                           0.334400               0.170620   \n",
       "\n",
       "   Sales and office occupations  \\\n",
       "1                      0.268786   \n",
       "2                      0.246350   \n",
       "3                      0.270669   \n",
       "4                      0.264363   \n",
       "5                      0.256644   \n",
       "\n",
       "   Natural resources, construction, and maintenance occupations  \\\n",
       "1                                           0.001810              \n",
       "2                                           0.009773              \n",
       "3                                           0.002259              \n",
       "4                                           0.002006              \n",
       "5                                           0.007136              \n",
       "\n",
       "   Production, transportation, and material moving occupations  year  \n",
       "1                                           0.223845            2005  \n",
       "2                                           0.305697            2005  \n",
       "3                                           0.178227            2005  \n",
       "4                                           0.192294            2005  \n",
       "5                                           0.231201            2005  \n",
       "\n",
       "[5 rows x 33 columns]"
      ]
     },
     "execution_count": 4,
     "metadata": {},
     "output_type": "execute_result"
    }
   ],
   "source": [
    "# Remove redundant/irrelevant columns\n",
    "soc_econ = soc_econ.drop(['metropolitan_area', 'city', 'state'], axis=1)\n",
    "\n",
    "# Normalize columns\n",
    "# Income\n",
    "income = [i for i in soc_econ.columns if '$' in i]\n",
    "for col in income:\n",
    "    soc_econ[col] = soc_econ[col]/soc_econ['Income_Total']\n",
    "soc_econ.drop('Income_Total', axis=1, inplace=True)\n",
    "\n",
    "#Education\n",
    "education = [i for i in soc_econ.columns if ('degree' in i) or ('graduate' in i)]\n",
    "for col in education:\n",
    "    soc_econ[col] = soc_econ[col]/soc_econ['Education_Total']\n",
    "soc_econ.drop('Education_Total', axis=1, inplace=True)\n",
    "\n",
    "# Occupation\n",
    "occupation = [i for i in soc_econ.columns if (i not in income) and (i not in education) and (i not in ['cbsa_code', 'year', 'Occupation_Total'])]\n",
    "for col in occupation:\n",
    "    soc_econ[col] = soc_econ[col]/soc_econ['Occupation_Total']\n",
    "soc_econ.drop('Occupation_Total', axis=1, inplace=True)\n",
    "\n",
    "soc_econ.head()"
   ]
  },
  {
   "cell_type": "code",
   "execution_count": 5,
   "id": "94ae6f1a-d76d-482b-a80e-65e8052a7c3b",
   "metadata": {},
   "outputs": [
    {
     "data": {
      "text/plain": [
       "(4644, 33)"
      ]
     },
     "execution_count": 5,
     "metadata": {},
     "output_type": "execute_result"
    }
   ],
   "source": [
    "soc_econ.shape"
   ]
  },
  {
   "cell_type": "markdown",
   "id": "e6ebde65-8de3-4f08-8b8b-db2e4df62e58",
   "metadata": {},
   "source": [
    "#### PCA"
   ]
  },
  {
   "cell_type": "markdown",
   "id": "f4c242a5-21bf-4eb9-a134-57c5da80cdf2",
   "metadata": {},
   "source": [
    "Since there are 33 attributes and only 5K instances, it may not be sufficient for a successful clustering analysis."
   ]
  },
  {
   "cell_type": "code",
   "execution_count": 6,
   "id": "3a676c76-aec0-4d0f-b029-6de9270daa5a",
   "metadata": {},
   "outputs": [
    {
     "data": {
      "text/plain": [
       "(4644, 11)"
      ]
     },
     "execution_count": 6,
     "metadata": {},
     "output_type": "execute_result"
    }
   ],
   "source": [
    "#Capture 90% variance \n",
    "pca = decomposition.PCA(n_components=.90, svd_solver='full')\n",
    "\n",
    "#only apply PCA on the continious variables \n",
    "continuous = soc_econ.drop(['cbsa_code', 'year'], axis=1)\n",
    "reduced_census = pd.DataFrame(pca.fit_transform(continuous))\n",
    "reduced_census['cbsa_code'] = soc_econ['cbsa_code']\n",
    "reduced_census['year'] = soc_econ['year']\n",
    "\n",
    "soc_econ_df = reduced_census.sort_values(['cbsa_code', 'year'], axis=0)\n",
    "soc_econ_df.shape"
   ]
  },
  {
   "cell_type": "markdown",
   "id": "fd02a843-7876-49ed-9f91-ff01f84cf6ba",
   "metadata": {},
   "source": [
    "### Clean AQI Report"
   ]
  },
  {
   "cell_type": "code",
   "execution_count": 8,
   "id": "1fe9eab8-9763-4d28-b243-e73498c6b163",
   "metadata": {},
   "outputs": [],
   "source": [
    "aqi_report = aqi.copy()\n",
    "aqi_report.sort_values(['cbsa_code', 'year'], inplace=True, axis=0)\n",
    "\n",
    "# Normalize the days for each air quality with the total AQI days\n",
    "qualities = ['Good', 'Moderate', 'Unhealthy for Sensitive Groups', 'Unhealthy', 'Very Unhealthy']\n",
    "for quality in qualities:\n",
    "    aqi_report.loc[:, quality] = aqi_report[quality] / aqi_report['# Days with AQI']\n",
    "    \n",
    "aqi_report.drop(columns=\"# Days with AQI\", inplace=True)"
   ]
  },
  {
   "cell_type": "markdown",
   "id": "ea556bc9-b8cb-4ac7-992b-2535a0f6fb42",
   "metadata": {},
   "source": [
    "### EPA Pollution"
   ]
  },
  {
   "cell_type": "markdown",
   "id": "c8021317-314b-43d0-9ef2-29d3d5bfe8c2",
   "metadata": {},
   "source": [
    "Clean up data such that each instance contains all pollutants for each cbsa"
   ]
  },
  {
   "cell_type": "code",
   "execution_count": 9,
   "id": "083b805e-f575-4832-8862-59786334eae6",
   "metadata": {
    "tags": []
   },
   "outputs": [],
   "source": [
    "durations = ['1 HOUR','24-HR BLK AVG', '24 HOUR', '3-HR BLK AVG', '8-HR RUN AVG END HOUR', '8-HR RUN AVG BEGIN HOUR', '5 MINUTE', 'INTEGRATED PASSIVE 4-WEEKS', 'INTEGREATED PASSIVE 3-WEEKS']\n",
    "first_duration = {'PM2.5': '1 HOUR',\n",
    "                  'Ozone': '8-HR RUN AVG END HOUR',\n",
    "                  'Carbon_monoxide': '1 HOUR',\n",
    "                  'Sulfur_dioxide': '1 HOUR'}\n",
    "\n",
    "## Create new pollution DF with all the pollutants for every instance\n",
    "pollution_df = pd.DataFrame()\n",
    "for year in range(2005, 2020):\n",
    "    for code in common_cbsa:\n",
    "        new_row = {'year': year,\n",
    "                   'cbsa_code': code}\n",
    "\n",
    "        #average all records for year and code into one instance\n",
    "        for k, v in first_duration.items():\n",
    "            pollutant = pollution[(pollution['year'] == year) & (pollution['cbsa_code'] == code) & (pollution['parameter'].str.contains(k.replace('_', ' ')))]\n",
    "            avg_poll = pollutant[pollutant['sample_duration'] == v]\n",
    "            new_row[k + '_sample_duration'] = v\n",
    "            \n",
    "            #If no instances matching the sample duration exist, then we look for other\n",
    "            for duration in durations:\n",
    "                if avg_poll.shape[0] != 0: break\n",
    "                avg_poll = pollutant[pollutant['sample_duration'] == duration]\n",
    "                new_row[k + '_sample_duration'] = duration\n",
    "            \n",
    "            if avg_poll.shape[0] == 0: \n",
    "                new_row[k + '_sample_duration'] = np.nan\n",
    "            \n",
    "            attributes = ['arithmetic_mean', 'standard_deviation', 'ninety_ninth_percentile', 'seventy_fifth_percentile']\n",
    "            for attr in attributes:\n",
    "                new_row[k + '_' + attr] = pollutant[attr].mean()\n",
    "\n",
    "        # Add matching AQI report to index\n",
    "        aqi_dict = aqi_report[(aqi_report['cbsa_code'] == code) & (aqi_report['year'] == year)]\n",
    "        for col in aqi_dict.columns:\n",
    "            if col != 'year' and col != 'cbsa_code':\n",
    "                new_row[col] = aqi_dict.iloc[0, :][col] if (aqi_dict.shape[0] != 0) else None\n",
    "                \n",
    "        pollution_df = pollution_df.append(new_row, ignore_index=True)\n",
    "        \n",
    "pollution_df.sort_values(['cbsa_code', 'year'], inplace=True, axis=0)"
   ]
  },
  {
   "cell_type": "markdown",
   "id": "cac7e0e4-30a6-4e8e-ab29-7e907147b5b5",
   "metadata": {},
   "source": [
    "#### Fill and Impute Missing Values"
   ]
  },
  {
   "cell_type": "code",
   "execution_count": 10,
   "id": "b3adab3c-f290-4a25-a9a1-f37577fe4b1e",
   "metadata": {},
   "outputs": [],
   "source": [
    "# Fill nan pollution values with recent year values\n",
    "for code in common_cbsa:\n",
    "    pollution_df[pollution_df['cbsa_code'] == code] = pollution_df[pollution_df['cbsa_code'] == code].fillna(method='ffill', axis=0) ## Fill forward to bring last completed year forward\n",
    "    pollution_df[pollution_df['cbsa_code'] == code] = pollution_df[pollution_df['cbsa_code'] == code].fillna(method='bfill', axis=0) ## Fill backward to impute missing values in earlier years"
   ]
  },
  {
   "cell_type": "code",
   "execution_count": 11,
   "id": "60d913d0-0646-4b4d-8dca-18ea1b20cb3b",
   "metadata": {
    "tags": []
   },
   "outputs": [],
   "source": [
    "#Impute sample duration with mode\n",
    "si = impute.SimpleImputer( strategy='most_frequent')\n",
    "dur_labels = [col for col in pollution_df.columns if 'duration' in col]\n",
    "pollution_df[dur_labels] = si.fit_transform(pollution_df[dur_labels])\n",
    "\n",
    "# Label encode all sample_duration columns\n",
    "le = preprocessing.LabelEncoder()\n",
    "le.fit(durations)\n",
    "for col in dur_labels:\n",
    "    pollution_df[col] = le.transform(pollution_df[col])"
   ]
  },
  {
   "cell_type": "code",
   "execution_count": 12,
   "id": "aacf69dd-d763-45ba-9e09-597fa44ea85c",
   "metadata": {},
   "outputs": [],
   "source": [
    "# Fill in remaining values with average\n",
    "si = impute.SimpleImputer()\n",
    "pollution_df = pd.DataFrame(si.fit_transform(pollution_df), columns=pollution_df.columns)"
   ]
  },
  {
   "cell_type": "code",
   "execution_count": 13,
   "id": "a3af6466-463b-4b9f-aef1-84404b68df2b",
   "metadata": {},
   "outputs": [],
   "source": [
    "pollution_df.sort_values(['cbsa_code', 'year'], inplace=True, axis=0)\n",
    "pollution_df.to_csv('../dataset/epa_pollution_clean.csv', index=False)"
   ]
  },
  {
   "cell_type": "markdown",
   "id": "e839b4b3-05c1-41e2-8117-c65a895ae1fd",
   "metadata": {},
   "source": [
    "#### PCA"
   ]
  },
  {
   "cell_type": "markdown",
   "id": "bb79e279-5fa8-4020-9f2f-eec1e7606ee7",
   "metadata": {},
   "source": [
    "Since there are 33 attributes and only 5K instances, it may not be sufficient for a successful clustering analysis."
   ]
  },
  {
   "cell_type": "code",
   "execution_count": 14,
   "id": "14d9a67a-eff6-42f0-94eb-507e5b5aafc9",
   "metadata": {},
   "outputs": [
    {
     "data": {
      "text/plain": [
       "(5085, 10)"
      ]
     },
     "execution_count": 14,
     "metadata": {},
     "output_type": "execute_result"
    }
   ],
   "source": [
    "#Capture 90% variance \n",
    "pca = decomposition.PCA(n_components=.90, svd_solver='full')\n",
    "\n",
    "#only apply PCA on the continious variables \n",
    "continuous = pollution_df.drop(['cbsa_code', 'year'], axis=1)\n",
    "continuous = continuous.drop(dur_labels, axis=1)\n",
    "reduced_epa = pd.DataFrame(pca.fit_transform(continuous))\n",
    "reduced_epa['cbsa_code'] = pollution_df['cbsa_code']\n",
    "reduced_epa['year'] = pollution_df['year']\n",
    "for duration in dur_labels:\n",
    "    reduced_epa[duration] = pollution_df[duration]\n",
    "\n",
    "reduced_epa.sort_values(['cbsa_code', 'year'], inplace=True, axis=0)\n",
    "# reduced_epa.to_csv('../dataset/epa_pollution_clean.csv', index=False)\n",
    "reduced_epa.shape"
   ]
  },
  {
   "cell_type": "markdown",
   "id": "7184b62d-1829-4d16-8616-04956596c0a8",
   "metadata": {},
   "source": [
    "### K-Means clustering on EPA pollution + AQI dataset"
   ]
  },
  {
   "cell_type": "code",
   "execution_count": 15,
   "id": "b47b5862-1010-43fa-ac5c-dcc1e7e3a11e",
   "metadata": {},
   "outputs": [
    {
     "name": "stderr",
     "output_type": "stream",
     "text": [
      "c:\\users\\suchi\\appdata\\local\\programs\\python\\python38\\lib\\site-packages\\sklearn\\utils\\validation.py:1673: FutureWarning: Feature names only support names that are all strings. Got feature names with dtypes: ['int', 'str']. An error will be raised in 1.2.\n",
      "  warnings.warn(\n"
     ]
    }
   ],
   "source": [
    "kmm = cluster.KMeans(n_clusters=5, random_state=27)\n",
    "kmm.fit_predict(reduced_epa.drop(columns=['year', 'cbsa_code']))\n",
    "reduced_epa['cluster'] = kmm.labels_"
   ]
  },
  {
   "cell_type": "markdown",
   "id": "5ad76d5f-7e94-4352-9c27-a5f50eb1f1d0",
   "metadata": {},
   "source": [
    "### K-Means clustering on AQI"
   ]
  },
  {
   "cell_type": "code",
   "execution_count": 16,
   "id": "3e6c1923-7253-4e43-8388-12a680f84b0b",
   "metadata": {},
   "outputs": [],
   "source": [
    "kmm = cluster.KMeans(n_clusters=5, random_state=27)\n",
    "kmm.fit_predict(aqi_report.drop(columns=['year', 'cbsa_code']))\n",
    "aqi_report['cluster'] = kmm.labels_"
   ]
  },
  {
   "cell_type": "markdown",
   "id": "6371f055-06a7-4659-93f1-e3e47e5ad109",
   "metadata": {
    "tags": []
   },
   "source": [
    "### K-Means clustering on ACS"
   ]
  },
  {
   "cell_type": "code",
   "execution_count": 17,
   "id": "aea60ec6-36af-4b42-908c-3f3f35099bee",
   "metadata": {},
   "outputs": [],
   "source": [
    "kmm = cluster.KMeans(n_clusters=5, random_state=27)\n",
    "kmm.fit_predict(soc_econ_df.drop(columns=['year', 'cbsa_code']))\n",
    "soc_econ['cluster'] = kmm.labels_"
   ]
  },
  {
   "cell_type": "markdown",
   "id": "e172ba1e-028b-4151-bd47-22298d4dfaf7",
   "metadata": {
    "jp-MarkdownHeadingCollapsed": true,
    "tags": []
   },
   "source": [
    "###  Dynamic Time Warping K-Means Clustering"
   ]
  },
  {
   "cell_type": "code",
   "execution_count": null,
   "id": "e5617562-06be-49d0-8d8d-004f4153a64f",
   "metadata": {
    "tags": []
   },
   "outputs": [],
   "source": [
    "from tslearn.clustering import TimeSeriesKMeans\n",
    "\n",
    "model = TimeSeriesKMeans(n_clusters=3, metric=\"dtw\", max_iter=50, random_state=143)\n",
    "y_pred = model.fit_predict(soc_econ)"
   ]
  },
  {
   "cell_type": "code",
   "execution_count": null,
   "id": "e3066487-8607-462d-ad35-26f4f7c6fef4",
   "metadata": {
    "tags": []
   },
   "outputs": [],
   "source": [
    "model.cluster_centers_.shape"
   ]
  },
  {
   "cell_type": "code",
   "execution_count": null,
   "id": "07108a7f-59e8-473a-8d2e-af9bb722b5c7",
   "metadata": {},
   "outputs": [],
   "source": [
    "for yi in range(3):\n",
    "    plt.subplot(3, 3, 7 + yi)    \n",
    "    plt.plot(model.cluster_centers_[yi].ravel(), \"r-\")\n",
    "    plt.text(0.55, 0.85,'Cluster %d' % (yi + 1),\n",
    "             transform=plt.gca().transAxes)\n",
    "    if yi == 1:\n",
    "        plt.title(\"DTW $k$-means\")\n",
    "\n",
    "plt.tight_layout() \n",
    "plt.show()"
   ]
  },
  {
   "cell_type": "code",
   "execution_count": null,
   "id": "8b80b8a2-3232-4c12-9d5f-3ce20dbd34db",
   "metadata": {},
   "outputs": [],
   "source": []
  }
 ],
 "metadata": {
  "kernelspec": {
   "display_name": "Python 3 (ipykernel)",
   "language": "python",
   "name": "python3"
  },
  "language_info": {
   "codemirror_mode": {
    "name": "ipython",
    "version": 3
   },
   "file_extension": ".py",
   "mimetype": "text/x-python",
   "name": "python",
   "nbconvert_exporter": "python",
   "pygments_lexer": "ipython3",
   "version": "3.8.8"
  }
 },
 "nbformat": 4,
 "nbformat_minor": 5
}
