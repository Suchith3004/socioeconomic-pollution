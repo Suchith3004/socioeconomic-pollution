{
 "cells": [
  {
   "cell_type": "code",
   "execution_count": 1,
   "id": "dea6830c-eaf8-4bc0-b040-cf4e58bb6d87",
   "metadata": {},
   "outputs": [],
   "source": [
    "import pandas as pd"
   ]
  },
  {
   "cell_type": "markdown",
   "id": "e0038959-bfa7-478f-af78-1917a5bd6f34",
   "metadata": {},
   "source": [
    "### Import EPA Pollution and Census American Community Survey Data"
   ]
  },
  {
   "cell_type": "code",
   "execution_count": 9,
   "id": "0535da9e-e85e-4e84-8f32-2d853cd126fc",
   "metadata": {},
   "outputs": [],
   "source": [
    "epa = pd.read_csv('./dataset/epa_pollution.csv')\n",
    "census = pd.read_csv('./dataset/census_acs.csv')\n",
    "\n",
    "#only use data with common cbsa codes\n",
    "common_cbsa = set(epa['cbsa_code'].unique())\n",
    "common_cbsa.intersection_update(census['cbsa_code'].unique())\n",
    "\n",
    "# Standardized cbsa code datasets\n",
    "pollution = epa[epa['cbsa_code'].isin(common_cbsa)]\n",
    "soc_econ = census[census['cbsa_code'].isin(common_cbsa)]"
   ]
  },
  {
   "cell_type": "code",
   "execution_count": 7,
   "id": "f558878c-860c-4388-bd78-e09a56da16ab",
   "metadata": {},
   "outputs": [],
   "source": []
  },
  {
   "cell_type": "code",
   "execution_count": null,
   "id": "5993c80a-8968-48c8-a98f-68fbfb4db491",
   "metadata": {},
   "outputs": [],
   "source": []
  }
 ],
 "metadata": {
  "kernelspec": {
   "display_name": "Python 3 (ipykernel)",
   "language": "python",
   "name": "python3"
  },
  "language_info": {
   "codemirror_mode": {
    "name": "ipython",
    "version": 3
   },
   "file_extension": ".py",
   "mimetype": "text/x-python",
   "name": "python",
   "nbconvert_exporter": "python",
   "pygments_lexer": "ipython3",
   "version": "3.8.8"
  }
 },
 "nbformat": 4,
 "nbformat_minor": 5
}
